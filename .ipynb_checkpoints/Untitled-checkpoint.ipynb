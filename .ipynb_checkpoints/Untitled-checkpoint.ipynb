{
 "cells": [
  {
   "cell_type": "code",
   "execution_count": 21,
   "metadata": {},
   "outputs": [],
   "source": [
    "import pandas as pd\n",
    "import os \n",
    "import uszipcode\n",
    "from uszipcode import ZipcodeSearchEngine\n",
    "from pprint import pprint"
   ]
  },
  {
   "cell_type": "code",
   "execution_count": 22,
   "metadata": {},
   "outputs": [
    {
     "data": {
      "text/html": [
       "<div>\n",
       "<style scoped>\n",
       "    .dataframe tbody tr th:only-of-type {\n",
       "        vertical-align: middle;\n",
       "    }\n",
       "\n",
       "    .dataframe tbody tr th {\n",
       "        vertical-align: top;\n",
       "    }\n",
       "\n",
       "    .dataframe thead th {\n",
       "        text-align: right;\n",
       "    }\n",
       "</style>\n",
       "<table border=\"1\" class=\"dataframe\">\n",
       "  <thead>\n",
       "    <tr style=\"text-align: right;\">\n",
       "      <th></th>\n",
       "      <th>State</th>\n",
       "      <th>Locality_Lat</th>\n",
       "      <th>Longt</th>\n",
       "    </tr>\n",
       "  </thead>\n",
       "  <tbody>\n",
       "    <tr>\n",
       "      <th>0</th>\n",
       "      <td>NY</td>\n",
       "      <td>64.845080</td>\n",
       "      <td>-147.722059</td>\n",
       "    </tr>\n",
       "    <tr>\n",
       "      <th>1</th>\n",
       "      <td>NH</td>\n",
       "      <td>32.840571</td>\n",
       "      <td>-86.631861</td>\n",
       "    </tr>\n",
       "    <tr>\n",
       "      <th>2</th>\n",
       "      <td>NJ</td>\n",
       "      <td>34.865970</td>\n",
       "      <td>-111.763811</td>\n",
       "    </tr>\n",
       "  </tbody>\n",
       "</table>\n",
       "</div>"
      ],
      "text/plain": [
       "  State  Locality_Lat       Longt\n",
       "0    NY     64.845080 -147.722059\n",
       "1    NH     32.840571  -86.631861\n",
       "2    NJ     34.865970 -111.763811"
      ]
     },
     "execution_count": 22,
     "metadata": {},
     "output_type": "execute_result"
    }
   ],
   "source": [
    "test_df = {\"State\":[\"NY\", \"NH\", \"NJ\"], \n",
    "           \"Locality_Lat\":[64.84507995700051, 32.84057112200048, 34.865970280000454], \n",
    "           \"Longt\":[-147.72205903599973,-86.63186076199969, -111.76381127699972]}\n",
    "data = pd.DataFrame(test_df)\n",
    "data"
   ]
  },
  {
   "cell_type": "code",
   "execution_count": 23,
   "metadata": {},
   "outputs": [
    {
     "name": "stdout",
     "output_type": "stream",
     "text": [
      "{\n",
      "    \"City\": \"New York\",\n",
      "    \"Density\": 34035.48387096774,\n",
      "    \"HouseOfUnits\": 12476,\n",
      "    \"LandArea\": 0.62,\n",
      "    \"Latitude\": 40.75368539999999,\n",
      "    \"Longitude\": -73.9991637,\n",
      "    \"NEBoundLatitude\": 40.8282129,\n",
      "    \"NEBoundLongitude\": -73.9321059,\n",
      "    \"Population\": 21102,\n",
      "    \"SWBoundLatitude\": 40.743451,\n",
      "    \"SWBoungLongitude\": -74.00794499999998,\n",
      "    \"State\": \"NY\",\n",
      "    \"TotalWages\": 1031960117.0,\n",
      "    \"WaterArea\": 0.0,\n",
      "    \"Wealthy\": 48903.42702113544,\n",
      "    \"Zipcode\": \"10001\",\n",
      "    \"ZipcodeType\": \"Standard\"\n",
      "}\n"
     ]
    }
   ],
   "source": [
    "zip_search = ZipcodeSearchEngine()\n",
    "zipcode = zip_search.by_zipcode(\"10001\")\n",
    "print(zipcode)"
   ]
  },
  {
   "cell_type": "code",
   "execution_count": null,
   "metadata": {},
   "outputs": [],
   "source": []
  },
  {
   "cell_type": "code",
   "execution_count": 54,
   "metadata": {},
   "outputs": [
    {
     "name": "stdout",
     "output_type": "stream",
     "text": [
      "  State  Locality_Lat       Longt zip\n",
      "0    NY     64.845080 -147.722059    \n",
      "1    NH     32.840571  -86.631861    \n",
      "2    NJ     34.865970 -111.763811    \n",
      "3\n",
      "\n",
      "row 0 and 64.84507995700051, -147.72205903599973\n",
      "row 1 and 32.84057112200048, -86.63186076199969\n",
      "row 2 and 34.865970280000454, -111.76381127699972\n"
     ]
    },
    {
     "data": {
      "text/html": [
       "<div>\n",
       "<style scoped>\n",
       "    .dataframe tbody tr th:only-of-type {\n",
       "        vertical-align: middle;\n",
       "    }\n",
       "\n",
       "    .dataframe tbody tr th {\n",
       "        vertical-align: top;\n",
       "    }\n",
       "\n",
       "    .dataframe thead th {\n",
       "        text-align: right;\n",
       "    }\n",
       "</style>\n",
       "<table border=\"1\" class=\"dataframe\">\n",
       "  <thead>\n",
       "    <tr style=\"text-align: right;\">\n",
       "      <th></th>\n",
       "      <th>State</th>\n",
       "      <th>Locality_Lat</th>\n",
       "      <th>Longt</th>\n",
       "      <th>zip</th>\n",
       "    </tr>\n",
       "  </thead>\n",
       "  <tbody>\n",
       "    <tr>\n",
       "      <th>0</th>\n",
       "      <td>NY</td>\n",
       "      <td>64.845080</td>\n",
       "      <td>-147.722059</td>\n",
       "      <td>99701</td>\n",
       "    </tr>\n",
       "    <tr>\n",
       "      <th>1</th>\n",
       "      <td>NH</td>\n",
       "      <td>32.840571</td>\n",
       "      <td>-86.631861</td>\n",
       "      <td>35045</td>\n",
       "    </tr>\n",
       "    <tr>\n",
       "      <th>2</th>\n",
       "      <td>NJ</td>\n",
       "      <td>34.865970</td>\n",
       "      <td>-111.763811</td>\n",
       "      <td>86336</td>\n",
       "    </tr>\n",
       "  </tbody>\n",
       "</table>\n",
       "</div>"
      ],
      "text/plain": [
       "  State  Locality_Lat       Longt    zip\n",
       "0    NY     64.845080 -147.722059  99701\n",
       "1    NH     32.840571  -86.631861  35045\n",
       "2    NJ     34.865970 -111.763811  86336"
      ]
     },
     "execution_count": 54,
     "metadata": {},
     "output_type": "execute_result"
    }
   ],
   "source": [
    "data[\"zip\"] = \"\"\n",
    "print(data)\n",
    "print(str(len(data)))\n",
    "print(data.iloc[0][\"zip\"])\n",
    "zips = []\n",
    "\n",
    "for row in range(0, len(data)):\n",
    "    lat = data.iloc[row][\"Locality_Lat\"]\n",
    "    longt = data.iloc[row][\"Longt\"]\n",
    "    print(f\"row {row} and {lat}, {longt}\")\n",
    "    zips.append(zip_search.by_coordinate(lat, longt, radius=30, returns=1)[0][\"Zipcode\"])\n",
    "data[\"zip\"] = zips\n",
    "data"
   ]
  },
  {
   "cell_type": "code",
   "execution_count": null,
   "metadata": {},
   "outputs": [],
   "source": []
  }
 ],
 "metadata": {
  "kernelspec": {
   "display_name": "Python 3",
   "language": "python",
   "name": "python3"
  },
  "language_info": {
   "codemirror_mode": {
    "name": "ipython",
    "version": 3
   },
   "file_extension": ".py",
   "mimetype": "text/x-python",
   "name": "python",
   "nbconvert_exporter": "python",
   "pygments_lexer": "ipython3",
   "version": "3.6.6"
  }
 },
 "nbformat": 4,
 "nbformat_minor": 2
}
