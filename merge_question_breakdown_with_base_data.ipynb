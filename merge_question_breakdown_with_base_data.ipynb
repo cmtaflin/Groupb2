{
 "cells": [
  {
   "cell_type": "code",
   "execution_count": 1,
   "metadata": {},
   "outputs": [],
   "source": [
    "#Dependencies\n",
    "import pandas as pd\n",
    "import numpy as np\n",
    "import csv\n",
    "import os\n",
    "import matplotlib.pyplot as plt\n",
    "import scipy.stats\n",
    "%matplotlib notebook\n",
    "#Read in CSV file and merge them\n",
    "#alcohol_data_csv=os.path.join('U.S._Chronic_Disease_Indicators__Alcohol.csv')\n",
    "#alcohol_data=pd.read_csv(alcohol_data_csv).encode('utf-8')\n",
    "\n",
    "#question_breakdown_csv=(\"Question_breakdown_w_age_CMT.csv\")\n",
    "#question_breakdown_data=pd.read_csv(question_breakdown_csv)\n",
    "\n",
    "\n",
    "\n",
    "\n",
    "#merged_data=pd.merge(alcohol_data,question_breakdown_data,on=\"Question\")\n",
    "#merged_data.head()"
   ]
  },
  {
   "cell_type": "code",
   "execution_count": 2,
   "metadata": {},
   "outputs": [],
   "source": [
    "#merged_data.columns"
   ]
  },
  {
   "cell_type": "code",
   "execution_count": 3,
   "metadata": {},
   "outputs": [],
   "source": [
    "#merged_data_edited=merged_data[[\"YearStart\",\"LocationDesc\",\"DataValue\",\"DataValueUnit\", \"DataValueType\",\\\n",
    "                                #\"StratificationCategory1\",\"Stratification1\",\"Binge_Heavy\",\"Description\", \"Sex\",\"Age\",\\\n",
    "                                #\"Question_additional_comments\",\"DataSource\",\"Topic\",\"Question\"]]\n",
    "#merged_data_edited.head()"
   ]
  },
  {
   "cell_type": "code",
   "execution_count": 4,
   "metadata": {},
   "outputs": [],
   "source": [
    "#merged_data_edited.to_csv(\"merged_data_edited.csv\")"
   ]
  },
  {
   "cell_type": "code",
   "execution_count": 5,
   "metadata": {
    "tags": [
     "Data_import",
     "Base_data"
    ]
   },
   "outputs": [],
   "source": [
    "merged_data_new_csv=(\"merged_data_edited.csv\")\n",
    "merged_data_new=pd.read_csv(merged_data_new_csv)\n",
    "#merged_data_new.head()"
   ]
  },
  {
   "cell_type": "code",
   "execution_count": 6,
   "metadata": {
    "tags": [
     "modify_data",
     "merge_columns"
    ]
   },
   "outputs": [],
   "source": [
    "#Convert % into one column if DataValue = percent\n",
    "dataVal_w_units=merged_data_new[\"DataValue\"]+ \" \" + merged_data_new[\"DataValueUnit\"]\n",
    "merged_data_new['DataVal with Units']=dataVal_w_units\n",
    "#merged_data_new.columns"
   ]
  },
  {
   "cell_type": "code",
   "execution_count": 7,
   "metadata": {
    "tags": [
     "sex_is_adults",
     "sex_is_not_adults",
     "MergeData",
     "Start_Chart1_prevalence"
    ]
   },
   "outputs": [
    {
     "name": "stderr",
     "output_type": "stream",
     "text": [
      "C:\\Users\\Craig\\Anaconda3\\lib\\site-packages\\ipykernel_launcher.py:19: SettingWithCopyWarning: \n",
      "A value is trying to be set on a copy of a slice from a DataFrame.\n",
      "Try using .loc[row_indexer,col_indexer] = value instead\n",
      "\n",
      "See the caveats in the documentation: http://pandas.pydata.org/pandas-docs/stable/indexing.html#indexing-view-versus-copy\n"
     ]
    }
   ],
   "source": [
    "#Add sex_age category for Gender with Sex column\n",
    "sex_adults=merged_data_new.loc[(merged_data_new[\"Sex\"] == \"Adults\")\\\n",
    "                               & (merged_data_new[\"StratificationCategory1\"] == \"Gender\")\\\n",
    "                               & (merged_data_new[\"LocationDesc\"]== \"United States\")\\\n",
    "                               & (merged_data_new[\"DataValueType\"]== \"Crude Prevalence\")\n",
    "                               & (merged_data_new[\"Binge_Heavy\"]== \"Binge\")\n",
    "                               ,[\"YearStart\",\"DataValue\",\"Stratification1\",\"Age\",\"Sex\",\"StratificationCategory1\",\\\n",
    "                                 \"LocationDesc\",\"DataValueType\"]]\n",
    "\n",
    "#Sex_Age_Calc\n",
    "sex_age=sex_adults[\"Stratification1\"] + \" \"  + sex_adults[\"Age\"]\n",
    "sex_adults['sex_age']=sex_age\n",
    "sex_adults_agesex=sex_adults[[\"YearStart\",\"DataValue\",\"sex_age\"]]\n",
    "\n",
    "#Add sex_age category for NOT Adultsfor reverse Concatenate \n",
    "\n",
    "sex_not_adults=merged_data_new.loc[(merged_data_new[\"Sex\"] != \"Adults\")\\\n",
    "                                   &(merged_data_new[\"StratificationCategory1\"] == \"Overall\")\\\n",
    "                                   & (merged_data_new[\"LocationDesc\"]== \"United States\")\\\n",
    "                                   & (merged_data_new[\"DataValueType\"]== \"Crude Prevalence\")\\\n",
    "                                   & (merged_data_new[\"Binge_Heavy\"]== \"Binge\")\n",
    "                                   ,:]\n",
    "\n",
    "sex_not_adults_agesex=sex_not_adults[[\"YearStart\",\"DataValue\",\"Age\",\"Sex\"]]\n",
    "sex_age=sex_not_adults[\"Sex\"] + \" \"  +sex_not_adults[\"Age\"]\n",
    "sex_not_adults_agesex['sex_age']=sex_age\n",
    "sex_not_adults_agesex=sex_not_adults_agesex[[\"YearStart\",\"DataValue\",\"sex_age\"]]\n",
    "\n",
    "#Merge Data\n",
    "chart1_data_base=pd.merge(sex_adults_agesex,sex_not_adults_agesex,how=\"outer\")\n",
    "chart1_data_base[\"DataValue\"]=chart1_data_base[\"DataValue\"].astype(float)\n",
    "chart1_data_base[\"YearStart\"]=chart1_data_base[\"YearStart\"].astype(int)\n",
    "\n",
    "#chart1_data_base"
   ]
  },
  {
   "cell_type": "code",
   "execution_count": 8,
   "metadata": {},
   "outputs": [
    {
     "data": {
      "text/html": [
       "<div>\n",
       "<style scoped>\n",
       "    .dataframe tbody tr th:only-of-type {\n",
       "        vertical-align: middle;\n",
       "    }\n",
       "\n",
       "    .dataframe tbody tr th {\n",
       "        vertical-align: top;\n",
       "    }\n",
       "\n",
       "    .dataframe thead th {\n",
       "        text-align: right;\n",
       "    }\n",
       "</style>\n",
       "<table border=\"1\" class=\"dataframe\">\n",
       "  <thead>\n",
       "    <tr style=\"text-align: right;\">\n",
       "      <th>YearStart</th>\n",
       "      <th>2011</th>\n",
       "      <th>2012</th>\n",
       "      <th>2013</th>\n",
       "      <th>2014</th>\n",
       "      <th>2015</th>\n",
       "      <th>2016</th>\n",
       "    </tr>\n",
       "    <tr>\n",
       "      <th>sex_age</th>\n",
       "      <th></th>\n",
       "      <th></th>\n",
       "      <th></th>\n",
       "      <th></th>\n",
       "      <th></th>\n",
       "      <th></th>\n",
       "    </tr>\n",
       "  </thead>\n",
       "  <tbody>\n",
       "    <tr>\n",
       "      <th>Female &gt;=18</th>\n",
       "      <td>12.6</td>\n",
       "      <td>11.4</td>\n",
       "      <td>11.3</td>\n",
       "      <td>11.1</td>\n",
       "      <td>11.7</td>\n",
       "      <td>12.0</td>\n",
       "    </tr>\n",
       "    <tr>\n",
       "      <th>Male &gt;=18</th>\n",
       "      <td>24.2</td>\n",
       "      <td>22.9</td>\n",
       "      <td>22.2</td>\n",
       "      <td>21.4</td>\n",
       "      <td>21.4</td>\n",
       "      <td>21.9</td>\n",
       "    </tr>\n",
       "    <tr>\n",
       "      <th>Women 18-44</th>\n",
       "      <td>19.4</td>\n",
       "      <td>17.4</td>\n",
       "      <td>17.6</td>\n",
       "      <td>16.9</td>\n",
       "      <td>17.7</td>\n",
       "      <td>18.7</td>\n",
       "    </tr>\n",
       "    <tr>\n",
       "      <th>Youth 14 to 18</th>\n",
       "      <td>NaN</td>\n",
       "      <td>NaN</td>\n",
       "      <td>20.8</td>\n",
       "      <td>NaN</td>\n",
       "      <td>17.7</td>\n",
       "      <td>NaN</td>\n",
       "    </tr>\n",
       "  </tbody>\n",
       "</table>\n",
       "</div>"
      ],
      "text/plain": [
       "YearStart       2011  2012  2013  2014  2015  2016\n",
       "sex_age                                           \n",
       "Female >=18     12.6  11.4  11.3  11.1  11.7  12.0\n",
       "Male >=18       24.2  22.9  22.2  21.4  21.4  21.9\n",
       "Women 18-44     19.4  17.4  17.6  16.9  17.7  18.7\n",
       "Youth 14 to 18   NaN   NaN  20.8   NaN  17.7   NaN"
      ]
     },
     "execution_count": 8,
     "metadata": {},
     "output_type": "execute_result"
    }
   ],
   "source": [
    "chart1_data_base=chart1_data_base.reset_index().pivot(columns='YearStart',index='sex_age',values='DataValue')\n",
    "\n",
    "chart1_data_base"
   ]
  },
  {
   "cell_type": "code",
   "execution_count": 9,
   "metadata": {},
   "outputs": [
    {
     "data": {
      "text/plain": [
       "<matplotlib.axes._subplots.AxesSubplot at 0x1a7915bc080>"
      ]
     },
     "execution_count": 9,
     "metadata": {},
     "output_type": "execute_result"
    },
    {
     "data": {
      "image/png": "[encoded data removed]",
      "text/plain": [
       "<Figure size 432x288 with 1 Axes>"
      ]
     },
     "metadata": {},
     "output_type": "display_data"
    }
   ],
   "source": [
    "#CHART 1 line chart\n",
    "chart1_data_base.T.plot(kind='line')"
   ]
  },
  {
   "cell_type": "code",
   "execution_count": 10,
   "metadata": {
    "tags": [
     "Chart_2_Start"
    ]
   },
   "outputs": [],
   "source": [
    "chart2_data_Base=merged_data_new\n",
    "#Sex_Age_Calc\n",
    "sex_age=chart2_data_Base[\"Stratification1\"] + \" \"  + chart2_data_Base[\"Age\"]\n",
    "chart2_data_Base['sex_age']=sex_age\n",
    "\n",
    "\n",
    "#Add sex_age category for Gender with Sex column\n",
    "chart2_data_base=chart2_data_Base.loc[(chart2_data_Base[\"Description\"] == \"intensity\")\\\n",
    "                               & (chart2_data_Base[\"LocationDesc\"]== \"United States\")\\\n",
    "                               & (chart2_data_Base[\"DataValueType\"]== \"Mean\")\n",
    "                               ,[\"YearStart\",\"DataValue\",\"Stratification1\",\"Age\",\"Sex\",\"StratificationCategory1\",\\\n",
    "                                 \"LocationDesc\",\"DataValueType\",\"sex_age\"]]\n",
    "\n",
    "chart2_data_base[\"DataValue\"]=chart2_data_base[\"DataValue\"].astype(float)\n",
    "#intensity_drinking.dtypes\n",
    "\n",
    "chart2_data_base_chart=chart2_data_base[[\"YearStart\",\"DataValue\",\"sex_age\"]]\n",
    "#chart2_data_base_chart"
   ]
  },
  {
   "cell_type": "code",
   "execution_count": 11,
   "metadata": {},
   "outputs": [
    {
     "data": {
      "text/html": [
       "<div>\n",
       "<style scoped>\n",
       "    .dataframe tbody tr th:only-of-type {\n",
       "        vertical-align: middle;\n",
       "    }\n",
       "\n",
       "    .dataframe tbody tr th {\n",
       "        vertical-align: top;\n",
       "    }\n",
       "\n",
       "    .dataframe thead th {\n",
       "        text-align: right;\n",
       "    }\n",
       "</style>\n",
       "<table border=\"1\" class=\"dataframe\">\n",
       "  <thead>\n",
       "    <tr style=\"text-align: right;\">\n",
       "      <th>YearStart</th>\n",
       "      <th>2011</th>\n",
       "      <th>2012</th>\n",
       "      <th>2013</th>\n",
       "      <th>2014</th>\n",
       "      <th>2015</th>\n",
       "      <th>2016</th>\n",
       "    </tr>\n",
       "    <tr>\n",
       "      <th>sex_age</th>\n",
       "      <th></th>\n",
       "      <th></th>\n",
       "      <th></th>\n",
       "      <th></th>\n",
       "      <th></th>\n",
       "      <th></th>\n",
       "    </tr>\n",
       "  </thead>\n",
       "  <tbody>\n",
       "    <tr>\n",
       "      <th>Female &gt;=18</th>\n",
       "      <td>5.8</td>\n",
       "      <td>5.7</td>\n",
       "      <td>5.7</td>\n",
       "      <td>5.7</td>\n",
       "      <td>5.6</td>\n",
       "      <td>5.6</td>\n",
       "    </tr>\n",
       "    <tr>\n",
       "      <th>Male &gt;=18</th>\n",
       "      <td>8.8</td>\n",
       "      <td>8.6</td>\n",
       "      <td>8.7</td>\n",
       "      <td>8.6</td>\n",
       "      <td>8.5</td>\n",
       "      <td>8.5</td>\n",
       "    </tr>\n",
       "    <tr>\n",
       "      <th>Overall &gt;=18</th>\n",
       "      <td>7.8</td>\n",
       "      <td>7.6</td>\n",
       "      <td>7.7</td>\n",
       "      <td>7.6</td>\n",
       "      <td>7.5</td>\n",
       "      <td>7.4</td>\n",
       "    </tr>\n",
       "  </tbody>\n",
       "</table>\n",
       "</div>"
      ],
      "text/plain": [
       "YearStart     2011  2012  2013  2014  2015  2016\n",
       "sex_age                                         \n",
       "Female >=18    5.8   5.7   5.7   5.7   5.6   5.6\n",
       "Male >=18      8.8   8.6   8.7   8.6   8.5   8.5\n",
       "Overall >=18   7.8   7.6   7.7   7.6   7.5   7.4"
      ]
     },
     "execution_count": 11,
     "metadata": {},
     "output_type": "execute_result"
    }
   ],
   "source": [
    "chart2_data_base_chart=chart2_data_base_chart.reset_index().pivot(columns='YearStart',index='sex_age',values='DataValue')\n",
    "chart2_data_base_chart"
   ]
  },
  {
   "cell_type": "code",
   "execution_count": 12,
   "metadata": {},
   "outputs": [
    {
     "data": {
      "text/plain": [
       "<matplotlib.axes._subplots.AxesSubplot at 0x1a791a71e10>"
      ]
     },
     "execution_count": 12,
     "metadata": {},
     "output_type": "execute_result"
    },
    {
     "data": {
      "image/png": "[encoded data removed]",
      "text/plain": [
       "<Figure size 432x288 with 1 Axes>"
      ]
     },
     "metadata": {},
     "output_type": "display_data"
    }
   ],
   "source": [
    "#CHART 2 line chart\n",
    "chart2_data_base_chart.T.plot(kind='line')"
   ]
  },
  {
   "cell_type": "code",
   "execution_count": 13,
   "metadata": {
    "scrolled": true,
    "tags": [
     "Chart3_start"
    ]
   },
   "outputs": [],
   "source": [
    "chart3_data_base=merged_data_new\n",
    "\n",
    "#Sex_Age_Calc\n",
    "sex_age=chart3_data_base[\"Stratification1\"] + \" \"  + chart3_data_base[\"Age\"]\n",
    "chart3_data_base['sex_age']=sex_age\n",
    "\n",
    "\n",
    "#Add sex_age category for Gender with Sex column\n",
    "chart3_data_base=chart3_data_base.loc[(chart3_data_base[\"Description\"] == \"frequency\")\\\n",
    "                               & (chart3_data_base[\"LocationDesc\"]== \"United States\")\\\n",
    "                               & (chart3_data_base[\"DataValueType\"]== \"Mean\")\n",
    "                               ,[\"YearStart\",\"DataValue\",\"Stratification1\",\"Age\",\"Sex\",\"StratificationCategory1\",\\\n",
    "                                 \"LocationDesc\",\"DataValueType\",\"sex_age\"]]\n",
    "\n",
    "\n",
    "chart3_data_base[\"DataValue\"]=chart3_data_base[\"DataValue\"].astype(float)\n",
    "\n",
    "chart3_data_base_chart=chart3_data_base[[\"YearStart\",\"DataValue\",\"sex_age\"]]\n"
   ]
  },
  {
   "cell_type": "code",
   "execution_count": 14,
   "metadata": {},
   "outputs": [],
   "source": [
    "chart3_data_base_chart=chart3_data_base_chart.reset_index().pivot(columns='YearStart',index='sex_age',values='DataValue')\n",
    "#chart3_data_base_chart"
   ]
  },
  {
   "cell_type": "code",
   "execution_count": 15,
   "metadata": {},
   "outputs": [
    {
     "data": {
      "text/plain": [
       "<matplotlib.axes._subplots.AxesSubplot at 0x1a791bd4d30>"
      ]
     },
     "execution_count": 15,
     "metadata": {},
     "output_type": "execute_result"
    },
    {
     "data": {
      "image/png": "[encoded data removed]",
      "text/plain": [
       "<Figure size 432x288 with 1 Axes>"
      ]
     },
     "metadata": {},
     "output_type": "display_data"
    }
   ],
   "source": [
    "#CHART 3 line chart\n",
    "chart3_data_base_chart.T.plot(kind='line')"
   ]
  },
  {
   "cell_type": "code",
   "execution_count": null,
   "metadata": {},
   "outputs": [],
   "source": []
  },
  {
   "cell_type": "code",
   "execution_count": null,
   "metadata": {},
   "outputs": [],
   "source": []
  }
 ],
 "metadata": {
  "celltoolbar": "Tags",
  "kernelspec": {
   "display_name": "Python 3",
   "language": "python",
   "name": "python3"
  },
  "language_info": {
   "codemirror_mode": {
    "name": "ipython",
    "version": 3
   },
   "file_extension": ".py",
   "mimetype": "text/x-python",
   "name": "python",
   "nbconvert_exporter": "python",
   "pygments_lexer": "ipython3",
   "version": "3.6.5"
  }
 },
 "nbformat": 4,
 "nbformat_minor": 2
}
