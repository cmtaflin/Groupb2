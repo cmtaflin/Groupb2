{
 "cells": [
  {
   "cell_type": "code",
   "execution_count": 1,
   "metadata": {
    "slideshow": {
     "slide_type": "-"
    },
    "tags": [
     "Dependencies"
    ]
   },
   "outputs": [],
   "source": [
    "%matplotlib inline\n",
    "\n",
    "#Why inline vs. notebook\n",
    "\n",
    "import matplotlib.pyplot as plt\n",
    "import pandas as pd\n",
    "from pprint import pprint\n",
    "import uszipcode\n",
    "import numpy as numpy\n",
    "import time\n",
    "import requests\n",
    "import json\n",
    "import warnings\n",
    "warnings.filterwarnings('ignore')"
   ]
  },
  {
   "cell_type": "markdown",
   "metadata": {},
   "source": [
    "#Need to document that we filetered out alcohol from the full data set"
   ]
  },
  {
   "cell_type": "code",
   "execution_count": 2,
   "metadata": {
    "scrolled": true,
    "tags": [
     "Import_Alcohol_Raw_Data"
    ]
   },
   "outputs": [],
   "source": [
    "#IMPORT DATA from CDC for Alcohol\n",
    "\n",
    "CDIA_df = pd.read_csv(\"data/U.S._Chronic_Disease_Indicators__Alcohol.csv\",\\\n",
    "                      header=0, thousands=r',', dtype={'DataValueAlt': numpy.float64})\n",
    "#CDIA_df.head()"
   ]
  },
  {
   "cell_type": "code",
   "execution_count": 3,
   "metadata": {
    "scrolled": true,
    "tags": [
     "BINGE_START"
    ]
   },
   "outputs": [],
   "source": [
    "#Create Binge by State Data Set\n",
    "\n",
    "\n",
    "# mean of the BingeDrinking Data by state and year\n",
    "binge_df = CDIA_df.loc[  (CDIA_df['QuestionID'] =='ALC2_2') \n",
    "& (CDIA_df['DataValueType'] =='Age-adjusted Prevalence')\n",
    "& (CDIA_df['DataSource'] =='BRFSS')                       \n",
    "& (CDIA_df['Stratification1'] =='Overall')].groupby(['LocationDesc','YearStart'])['DataValueAlt'].mean()\n",
    "binge_df1 = binge_df.unstack(1)\n",
    "\n",
    "#binge_df1"
   ]
  },
  {
   "cell_type": "code",
   "execution_count": 4,
   "metadata": {
    "scrolled": true
   },
   "outputs": [],
   "source": [
    "###Temp turned off\n",
    "\n",
    "\n",
    "########        BINGE by STATE_2011_2016     #######################\n",
    "#plot graph of binge drinking for all states by year and value\n",
    "#binge_df1.drop('United States').T.plot(kind='line', legend='reverse', ylim=(0,30), figsize=(15,15))"
   ]
  },
  {
   "cell_type": "code",
   "execution_count": 5,
   "metadata": {
    "slideshow": {
     "slide_type": "slide"
    },
    "tags": [
     "BINGE_END"
    ]
   },
   "outputs": [
    {
     "data": {
      "text/plain": [
       "<matplotlib.axes._subplots.AxesSubplot at 0x1c88001f2e8>"
      ]
     },
     "execution_count": 5,
     "metadata": {},
     "output_type": "execute_result"
    },
    {
     "data": {
      "image/png": "[encoded data removed]",
      "text/plain": [
       "<Figure size 432x288 with 1 Axes>"
      ]
     },
     "metadata": {},
     "output_type": "display_data"
    }
   ],
   "source": [
    "# ########        BINGEING FROM 2011_2016     #######################\n",
    "binge_df2 = binge_df.drop('United States').groupby(['YearStart']).mean()\n",
    "#binge_df2\n",
    "\n",
    "binge_plot = binge_df2.plot(kind='line', y = 'YearStart',  \n",
    "  legend = False, fontsize=14)\n",
    "binge_plot"
   ]
  },
  {
   "cell_type": "code",
   "execution_count": 6,
   "metadata": {
    "scrolled": true,
    "tags": [
     "HEAVY_START"
    ]
   },
   "outputs": [],
   "source": [
    "#######   HEAVY_STATE_2011_2016\n",
    "#mean of the Heavy drinking by state and year\n",
    "heavy_df = CDIA_df.loc[  (CDIA_df['QuestionID'] =='ALC5_1') \n",
    "& (CDIA_df['DataValueType'] =='Age-adjusted Prevalence')                       \n",
    "& (CDIA_df['Stratification1'] =='Overall')].groupby(['LocationDesc','YearStart'])['DataValueAlt'].mean()\n",
    "heavy_df1 = heavy_df.unstack(1)\n",
    "# heavy_df1 \n",
    "\n"
   ]
  },
  {
   "cell_type": "code",
   "execution_count": 7,
   "metadata": {
    "scrolled": true
   },
   "outputs": [],
   "source": [
    "###Temp turned off\n",
    "##Too many variables - idea is to group\n",
    "\n",
    "#plot graph of heavy drinking for all states by year and value\n",
    "###Temp turned off\n",
    "# heavy_df1.drop('United States').T.plot(kind='line', legend='reverse', ylim=(0,12), figsize=(15,15))"
   ]
  },
  {
   "cell_type": "code",
   "execution_count": 8,
   "metadata": {
    "slideshow": {
     "slide_type": "slide"
    }
   },
   "outputs": [
    {
     "data": {
      "text/plain": [
       "<matplotlib.axes._subplots.AxesSubplot at 0x1c880a91198>"
      ]
     },
     "execution_count": 8,
     "metadata": {},
     "output_type": "execute_result"
    },
    {
     "data": {
      "image/png": "[encoded data removed]",
      "text/plain": [
       "<Figure size 432x288 with 1 Axes>"
      ]
     },
     "metadata": {},
     "output_type": "display_data"
    }
   ],
   "source": [
    "###  HEAVY_MEAN_2011_2016\n",
    "\n",
    "heavy_df2 = heavy_df.drop('United States').groupby(['YearStart']).mean()\n",
    "#heavy_df2\n",
    "\n",
    "heavy_plot = heavy_df2.plot(kind='line', y = 'YearStart', legend = False, fontsize=14,)\n",
    "heavy_plot"
   ]
  },
  {
   "cell_type": "code",
   "execution_count": 9,
   "metadata": {},
   "outputs": [],
   "source": [
    "###   Temp Turn Off\n",
    "###Note: I think using two individual line charts over this chart.\n",
    "\n",
    "#Binge Vs. Heavy Drinking Metrics\n",
    "#a1_df = pd.concat([binge_df2, heavy_df2], axis=1)\n",
    "#a1_df.columns = ['Binge', 'Heavy']\n",
    "#a1_df.plot(kind='line')"
   ]
  },
  {
   "cell_type": "code",
   "execution_count": 10,
   "metadata": {
    "tags": [
     "cmt_thinks_same_data_as_line_above"
    ]
   },
   "outputs": [],
   "source": [
    "#a1_df = pd.concat([binge_df2, heavy_df2], axis=1)\n",
    "#a1_df.columns = ['Binge', 'Heavy']\n",
    "#a1_df.plot(kind='bar')\n",
    "# CDIA_df.columns"
   ]
  },
  {
   "cell_type": "code",
   "execution_count": 11,
   "metadata": {},
   "outputs": [
    {
     "data": {
      "text/html": [
       "<div>\n",
       "<style scoped>\n",
       "    .dataframe tbody tr th:only-of-type {\n",
       "        vertical-align: middle;\n",
       "    }\n",
       "\n",
       "    .dataframe tbody tr th {\n",
       "        vertical-align: top;\n",
       "    }\n",
       "\n",
       "    .dataframe thead th {\n",
       "        text-align: right;\n",
       "    }\n",
       "</style>\n",
       "<table border=\"1\" class=\"dataframe\">\n",
       "  <thead>\n",
       "    <tr style=\"text-align: right;\">\n",
       "      <th>YearStart</th>\n",
       "      <th>2010</th>\n",
       "      <th>2011</th>\n",
       "      <th>2012</th>\n",
       "      <th>2013</th>\n",
       "      <th>2014</th>\n",
       "      <th>2015</th>\n",
       "      <th>2016</th>\n",
       "    </tr>\n",
       "    <tr>\n",
       "      <th>Stratification1</th>\n",
       "      <th></th>\n",
       "      <th></th>\n",
       "      <th></th>\n",
       "      <th></th>\n",
       "      <th></th>\n",
       "      <th></th>\n",
       "      <th></th>\n",
       "    </tr>\n",
       "  </thead>\n",
       "  <tbody>\n",
       "    <tr>\n",
       "      <th>Female</th>\n",
       "      <td>78.482000</td>\n",
       "      <td>26.886815</td>\n",
       "      <td>27.335395</td>\n",
       "      <td>27.963058</td>\n",
       "      <td>29.574957</td>\n",
       "      <td>6.531944</td>\n",
       "      <td>6.955963</td>\n",
       "    </tr>\n",
       "    <tr>\n",
       "      <th>Male</th>\n",
       "      <td>144.604575</td>\n",
       "      <td>47.985052</td>\n",
       "      <td>49.102735</td>\n",
       "      <td>51.015214</td>\n",
       "      <td>52.446325</td>\n",
       "      <td>10.550926</td>\n",
       "      <td>10.820000</td>\n",
       "    </tr>\n",
       "    <tr>\n",
       "      <th>Overall</th>\n",
       "      <td>9.309615</td>\n",
       "      <td>9.819231</td>\n",
       "      <td>10.040385</td>\n",
       "      <td>10.267308</td>\n",
       "      <td>10.482692</td>\n",
       "      <td>NaN</td>\n",
       "      <td>NaN</td>\n",
       "    </tr>\n",
       "  </tbody>\n",
       "</table>\n",
       "</div>"
      ],
      "text/plain": [
       "YearStart              2010       2011       2012       2013       2014  \\\n",
       "Stratification1                                                           \n",
       "Female            78.482000  26.886815  27.335395  27.963058  29.574957   \n",
       "Male             144.604575  47.985052  49.102735  51.015214  52.446325   \n",
       "Overall            9.309615   9.819231  10.040385  10.267308  10.482692   \n",
       "\n",
       "YearStart             2015       2016  \n",
       "Stratification1                        \n",
       "Female            6.531944   6.955963  \n",
       "Male             10.550926  10.820000  \n",
       "Overall                NaN        NaN  "
      ]
     },
     "execution_count": 11,
     "metadata": {},
     "output_type": "execute_result"
    }
   ],
   "source": [
    "####CMT attempt to do with Gender\n",
    "\n",
    "\n",
    "###Filter CDIA data for Age-Adjusted Rate\n",
    "cldm_rev_df = CDIA_df.loc[(CDIA_df['QuestionID'] =='ALC6_0') \n",
    "& (CDIA_df['DataSource'] =='NVSS')\n",
    "& (CDIA_df['DataValueType'] =='Age-adjusted Rate')\n",
    "& (CDIA_df['Stratification1'] =='Overall')|(CDIA_df['Stratification1'] =='Male')|(CDIA_df['Stratification1'] =='Female')].groupby(['Stratification1','YearStart'])['DataValueAlt'].mean()\n",
    "\n",
    "\n",
    "#|(CDIA_df['Stratification1'] =='Gender')\n",
    "#Adjust Format so Year_Start are columns\n",
    "cldm_df2 = cldm_rev_df.unstack(1)\n",
    "\n",
    "cldm_df2\n"
   ]
  },
  {
   "cell_type": "code",
   "execution_count": 12,
   "metadata": {},
   "outputs": [],
   "source": [
    "#heavy_plot_sex=cldm_df2.plot(kind='line', y = 'YearStart', legend = True, fontsize=14,)\n",
    "#heavy_plot_sex"
   ]
  },
  {
   "cell_type": "code",
   "execution_count": 13,
   "metadata": {},
   "outputs": [
    {
     "data": {
      "text/plain": [
       "LocationDesc   YearStart\n",
       "Alabama        2010          9.4\n",
       "               2011          9.9\n",
       "               2012         11.0\n",
       "               2013         10.1\n",
       "               2014         11.8\n",
       "Alaska         2010          9.8\n",
       "               2011         13.0\n",
       "               2012         12.6\n",
       "               2013         11.3\n",
       "               2014         10.7\n",
       "Arizona        2010         12.7\n",
       "               2011         13.5\n",
       "               2012         13.9\n",
       "               2013         14.7\n",
       "               2014         14.3\n",
       "Arkansas       2010          9.9\n",
       "               2011          9.4\n",
       "               2012          9.5\n",
       "               2013          9.8\n",
       "               2014         10.4\n",
       "California     2010         11.3\n",
       "               2011         11.7\n",
       "               2012         11.7\n",
       "               2013         11.8\n",
       "               2014         12.0\n",
       "Colorado       2010         11.2\n",
       "               2011         12.3\n",
       "               2012         11.7\n",
       "               2013         12.6\n",
       "               2014         12.7\n",
       "                            ... \n",
       "Vermont        2010          7.2\n",
       "               2011          9.1\n",
       "               2012          5.6\n",
       "               2013          9.5\n",
       "               2014          7.9\n",
       "Virginia       2010          7.9\n",
       "               2011          8.3\n",
       "               2012          8.9\n",
       "               2013          9.0\n",
       "               2014          8.7\n",
       "Washington     2010         10.5\n",
       "               2011         10.1\n",
       "               2012         11.1\n",
       "               2013         12.2\n",
       "               2014         11.1\n",
       "West Virginia  2010         10.7\n",
       "               2011         12.0\n",
       "               2012         10.8\n",
       "               2013         12.5\n",
       "               2014         14.3\n",
       "Wisconsin      2010          8.2\n",
       "               2011          7.9\n",
       "               2012          8.6\n",
       "               2013          9.1\n",
       "               2014          8.8\n",
       "Wyoming        2010         12.5\n",
       "               2011         14.6\n",
       "               2012         16.4\n",
       "               2013         14.3\n",
       "               2014         14.5\n",
       "Name: DataValueAlt, Length: 260, dtype: float64"
      ]
     },
     "execution_count": 13,
     "metadata": {},
     "output_type": "execute_result"
    }
   ],
   "source": [
    "###Filter CDIA data for Age-Adjusted Rate\n",
    "cldm_df = CDIA_df.loc[  (CDIA_df['QuestionID'] =='ALC6_0') \n",
    "& (CDIA_df['DataSource'] =='NVSS')\n",
    "& (CDIA_df['DataValueType'] =='Age-adjusted Rate')\n",
    "& (CDIA_df['Stratification1'] =='Overall')].groupby(['LocationDesc','YearStart'])['DataValueAlt'].mean()\n",
    "cldm_df"
   ]
  },
  {
   "cell_type": "code",
   "execution_count": 14,
   "metadata": {},
   "outputs": [
    {
     "data": {
      "text/html": [
       "<div>\n",
       "<style scoped>\n",
       "    .dataframe tbody tr th:only-of-type {\n",
       "        vertical-align: middle;\n",
       "    }\n",
       "\n",
       "    .dataframe tbody tr th {\n",
       "        vertical-align: top;\n",
       "    }\n",
       "\n",
       "    .dataframe thead th {\n",
       "        text-align: right;\n",
       "    }\n",
       "</style>\n",
       "<table border=\"1\" class=\"dataframe\">\n",
       "  <thead>\n",
       "    <tr style=\"text-align: right;\">\n",
       "      <th>YearStart</th>\n",
       "      <th>2010</th>\n",
       "      <th>2011</th>\n",
       "      <th>2012</th>\n",
       "      <th>2013</th>\n",
       "      <th>2014</th>\n",
       "    </tr>\n",
       "    <tr>\n",
       "      <th>LocationDesc</th>\n",
       "      <th></th>\n",
       "      <th></th>\n",
       "      <th></th>\n",
       "      <th></th>\n",
       "      <th></th>\n",
       "    </tr>\n",
       "  </thead>\n",
       "  <tbody>\n",
       "    <tr>\n",
       "      <th>Alabama</th>\n",
       "      <td>9.4</td>\n",
       "      <td>9.9</td>\n",
       "      <td>11.0</td>\n",
       "      <td>10.1</td>\n",
       "      <td>11.8</td>\n",
       "    </tr>\n",
       "    <tr>\n",
       "      <th>Alaska</th>\n",
       "      <td>9.8</td>\n",
       "      <td>13.0</td>\n",
       "      <td>12.6</td>\n",
       "      <td>11.3</td>\n",
       "      <td>10.7</td>\n",
       "    </tr>\n",
       "    <tr>\n",
       "      <th>Arizona</th>\n",
       "      <td>12.7</td>\n",
       "      <td>13.5</td>\n",
       "      <td>13.9</td>\n",
       "      <td>14.7</td>\n",
       "      <td>14.3</td>\n",
       "    </tr>\n",
       "    <tr>\n",
       "      <th>Arkansas</th>\n",
       "      <td>9.9</td>\n",
       "      <td>9.4</td>\n",
       "      <td>9.5</td>\n",
       "      <td>9.8</td>\n",
       "      <td>10.4</td>\n",
       "    </tr>\n",
       "    <tr>\n",
       "      <th>California</th>\n",
       "      <td>11.3</td>\n",
       "      <td>11.7</td>\n",
       "      <td>11.7</td>\n",
       "      <td>11.8</td>\n",
       "      <td>12.0</td>\n",
       "    </tr>\n",
       "    <tr>\n",
       "      <th>Colorado</th>\n",
       "      <td>11.2</td>\n",
       "      <td>12.3</td>\n",
       "      <td>11.7</td>\n",
       "      <td>12.6</td>\n",
       "      <td>12.7</td>\n",
       "    </tr>\n",
       "    <tr>\n",
       "      <th>Connecticut</th>\n",
       "      <td>7.3</td>\n",
       "      <td>7.3</td>\n",
       "      <td>7.8</td>\n",
       "      <td>7.7</td>\n",
       "      <td>8.5</td>\n",
       "    </tr>\n",
       "    <tr>\n",
       "      <th>Delaware</th>\n",
       "      <td>8.8</td>\n",
       "      <td>8.6</td>\n",
       "      <td>7.0</td>\n",
       "      <td>7.2</td>\n",
       "      <td>9.3</td>\n",
       "    </tr>\n",
       "    <tr>\n",
       "      <th>District of Columbia</th>\n",
       "      <td>8.9</td>\n",
       "      <td>6.8</td>\n",
       "      <td>8.5</td>\n",
       "      <td>8.1</td>\n",
       "      <td>7.7</td>\n",
       "    </tr>\n",
       "    <tr>\n",
       "      <th>Florida</th>\n",
       "      <td>10.6</td>\n",
       "      <td>10.8</td>\n",
       "      <td>10.6</td>\n",
       "      <td>10.7</td>\n",
       "      <td>11.8</td>\n",
       "    </tr>\n",
       "    <tr>\n",
       "      <th>Georgia</th>\n",
       "      <td>7.5</td>\n",
       "      <td>7.6</td>\n",
       "      <td>8.3</td>\n",
       "      <td>8.5</td>\n",
       "      <td>8.6</td>\n",
       "    </tr>\n",
       "    <tr>\n",
       "      <th>Hawaii</th>\n",
       "      <td>6.5</td>\n",
       "      <td>8.0</td>\n",
       "      <td>8.3</td>\n",
       "      <td>6.9</td>\n",
       "      <td>6.9</td>\n",
       "    </tr>\n",
       "    <tr>\n",
       "      <th>Idaho</th>\n",
       "      <td>9.3</td>\n",
       "      <td>10.5</td>\n",
       "      <td>11.5</td>\n",
       "      <td>11.7</td>\n",
       "      <td>11.0</td>\n",
       "    </tr>\n",
       "    <tr>\n",
       "      <th>Illinois</th>\n",
       "      <td>8.2</td>\n",
       "      <td>8.2</td>\n",
       "      <td>8.4</td>\n",
       "      <td>9.0</td>\n",
       "      <td>9.2</td>\n",
       "    </tr>\n",
       "    <tr>\n",
       "      <th>Indiana</th>\n",
       "      <td>9.0</td>\n",
       "      <td>9.3</td>\n",
       "      <td>10.3</td>\n",
       "      <td>10.1</td>\n",
       "      <td>10.4</td>\n",
       "    </tr>\n",
       "    <tr>\n",
       "      <th>Iowa</th>\n",
       "      <td>7.9</td>\n",
       "      <td>7.0</td>\n",
       "      <td>8.1</td>\n",
       "      <td>8.4</td>\n",
       "      <td>8.8</td>\n",
       "    </tr>\n",
       "    <tr>\n",
       "      <th>Kansas</th>\n",
       "      <td>7.8</td>\n",
       "      <td>8.4</td>\n",
       "      <td>7.8</td>\n",
       "      <td>7.8</td>\n",
       "      <td>8.9</td>\n",
       "    </tr>\n",
       "    <tr>\n",
       "      <th>Kentucky</th>\n",
       "      <td>9.4</td>\n",
       "      <td>9.5</td>\n",
       "      <td>10.8</td>\n",
       "      <td>10.8</td>\n",
       "      <td>11.5</td>\n",
       "    </tr>\n",
       "    <tr>\n",
       "      <th>Louisiana</th>\n",
       "      <td>7.9</td>\n",
       "      <td>7.8</td>\n",
       "      <td>8.7</td>\n",
       "      <td>9.7</td>\n",
       "      <td>9.8</td>\n",
       "    </tr>\n",
       "    <tr>\n",
       "      <th>Maine</th>\n",
       "      <td>8.8</td>\n",
       "      <td>8.9</td>\n",
       "      <td>8.1</td>\n",
       "      <td>8.4</td>\n",
       "      <td>9.0</td>\n",
       "    </tr>\n",
       "    <tr>\n",
       "      <th>Maryland</th>\n",
       "      <td>7.0</td>\n",
       "      <td>7.0</td>\n",
       "      <td>6.7</td>\n",
       "      <td>6.8</td>\n",
       "      <td>6.9</td>\n",
       "    </tr>\n",
       "    <tr>\n",
       "      <th>Massachusetts</th>\n",
       "      <td>7.7</td>\n",
       "      <td>7.7</td>\n",
       "      <td>7.9</td>\n",
       "      <td>7.5</td>\n",
       "      <td>8.4</td>\n",
       "    </tr>\n",
       "    <tr>\n",
       "      <th>Michigan</th>\n",
       "      <td>10.0</td>\n",
       "      <td>10.0</td>\n",
       "      <td>9.8</td>\n",
       "      <td>10.0</td>\n",
       "      <td>10.0</td>\n",
       "    </tr>\n",
       "    <tr>\n",
       "      <th>Minnesota</th>\n",
       "      <td>7.0</td>\n",
       "      <td>7.3</td>\n",
       "      <td>8.1</td>\n",
       "      <td>8.3</td>\n",
       "      <td>7.9</td>\n",
       "    </tr>\n",
       "    <tr>\n",
       "      <th>Mississippi</th>\n",
       "      <td>9.0</td>\n",
       "      <td>10.6</td>\n",
       "      <td>9.2</td>\n",
       "      <td>9.7</td>\n",
       "      <td>10.3</td>\n",
       "    </tr>\n",
       "    <tr>\n",
       "      <th>Missouri</th>\n",
       "      <td>7.8</td>\n",
       "      <td>7.5</td>\n",
       "      <td>8.3</td>\n",
       "      <td>8.4</td>\n",
       "      <td>8.8</td>\n",
       "    </tr>\n",
       "    <tr>\n",
       "      <th>Montana</th>\n",
       "      <td>10.7</td>\n",
       "      <td>11.1</td>\n",
       "      <td>12.7</td>\n",
       "      <td>13.0</td>\n",
       "      <td>12.2</td>\n",
       "    </tr>\n",
       "    <tr>\n",
       "      <th>Nebraska</th>\n",
       "      <td>8.1</td>\n",
       "      <td>6.4</td>\n",
       "      <td>8.5</td>\n",
       "      <td>8.9</td>\n",
       "      <td>8.0</td>\n",
       "    </tr>\n",
       "    <tr>\n",
       "      <th>Nevada</th>\n",
       "      <td>11.1</td>\n",
       "      <td>10.8</td>\n",
       "      <td>12.9</td>\n",
       "      <td>12.9</td>\n",
       "      <td>12.2</td>\n",
       "    </tr>\n",
       "    <tr>\n",
       "      <th>New Hampshire</th>\n",
       "      <td>6.4</td>\n",
       "      <td>9.3</td>\n",
       "      <td>7.4</td>\n",
       "      <td>8.7</td>\n",
       "      <td>10.1</td>\n",
       "    </tr>\n",
       "    <tr>\n",
       "      <th>New Jersey</th>\n",
       "      <td>7.3</td>\n",
       "      <td>7.6</td>\n",
       "      <td>7.0</td>\n",
       "      <td>7.5</td>\n",
       "      <td>7.5</td>\n",
       "    </tr>\n",
       "    <tr>\n",
       "      <th>New Mexico</th>\n",
       "      <td>17.0</td>\n",
       "      <td>20.9</td>\n",
       "      <td>19.3</td>\n",
       "      <td>19.7</td>\n",
       "      <td>22.5</td>\n",
       "    </tr>\n",
       "    <tr>\n",
       "      <th>New York</th>\n",
       "      <td>6.6</td>\n",
       "      <td>6.8</td>\n",
       "      <td>6.7</td>\n",
       "      <td>6.9</td>\n",
       "      <td>6.8</td>\n",
       "    </tr>\n",
       "    <tr>\n",
       "      <th>North Carolina</th>\n",
       "      <td>8.9</td>\n",
       "      <td>9.5</td>\n",
       "      <td>9.9</td>\n",
       "      <td>10.2</td>\n",
       "      <td>10.3</td>\n",
       "    </tr>\n",
       "    <tr>\n",
       "      <th>North Dakota</th>\n",
       "      <td>10.1</td>\n",
       "      <td>11.4</td>\n",
       "      <td>11.3</td>\n",
       "      <td>12.1</td>\n",
       "      <td>7.7</td>\n",
       "    </tr>\n",
       "    <tr>\n",
       "      <th>Ohio</th>\n",
       "      <td>9.4</td>\n",
       "      <td>9.6</td>\n",
       "      <td>9.6</td>\n",
       "      <td>10.1</td>\n",
       "      <td>10.4</td>\n",
       "    </tr>\n",
       "    <tr>\n",
       "      <th>Oklahoma</th>\n",
       "      <td>12.5</td>\n",
       "      <td>12.7</td>\n",
       "      <td>14.2</td>\n",
       "      <td>13.8</td>\n",
       "      <td>13.8</td>\n",
       "    </tr>\n",
       "    <tr>\n",
       "      <th>Oregon</th>\n",
       "      <td>11.3</td>\n",
       "      <td>12.2</td>\n",
       "      <td>11.5</td>\n",
       "      <td>11.7</td>\n",
       "      <td>12.8</td>\n",
       "    </tr>\n",
       "    <tr>\n",
       "      <th>Pennsylvania</th>\n",
       "      <td>7.8</td>\n",
       "      <td>7.8</td>\n",
       "      <td>7.9</td>\n",
       "      <td>8.0</td>\n",
       "      <td>8.1</td>\n",
       "    </tr>\n",
       "    <tr>\n",
       "      <th>Rhode Island</th>\n",
       "      <td>9.7</td>\n",
       "      <td>11.5</td>\n",
       "      <td>11.0</td>\n",
       "      <td>9.9</td>\n",
       "      <td>9.1</td>\n",
       "    </tr>\n",
       "    <tr>\n",
       "      <th>South Carolina</th>\n",
       "      <td>10.8</td>\n",
       "      <td>10.6</td>\n",
       "      <td>10.6</td>\n",
       "      <td>12.1</td>\n",
       "      <td>11.8</td>\n",
       "    </tr>\n",
       "    <tr>\n",
       "      <th>South Dakota</th>\n",
       "      <td>10.1</td>\n",
       "      <td>11.7</td>\n",
       "      <td>13.4</td>\n",
       "      <td>13.4</td>\n",
       "      <td>16.3</td>\n",
       "    </tr>\n",
       "    <tr>\n",
       "      <th>Tennessee</th>\n",
       "      <td>10.2</td>\n",
       "      <td>10.6</td>\n",
       "      <td>11.0</td>\n",
       "      <td>11.6</td>\n",
       "      <td>12.0</td>\n",
       "    </tr>\n",
       "    <tr>\n",
       "      <th>Texas</th>\n",
       "      <td>11.7</td>\n",
       "      <td>12.3</td>\n",
       "      <td>12.8</td>\n",
       "      <td>12.9</td>\n",
       "      <td>13.5</td>\n",
       "    </tr>\n",
       "    <tr>\n",
       "      <th>United States</th>\n",
       "      <td>9.4</td>\n",
       "      <td>9.7</td>\n",
       "      <td>9.9</td>\n",
       "      <td>10.2</td>\n",
       "      <td>10.4</td>\n",
       "    </tr>\n",
       "    <tr>\n",
       "      <th>Utah</th>\n",
       "      <td>7.3</td>\n",
       "      <td>7.5</td>\n",
       "      <td>8.5</td>\n",
       "      <td>7.7</td>\n",
       "      <td>8.7</td>\n",
       "    </tr>\n",
       "    <tr>\n",
       "      <th>Vermont</th>\n",
       "      <td>7.2</td>\n",
       "      <td>9.1</td>\n",
       "      <td>5.6</td>\n",
       "      <td>9.5</td>\n",
       "      <td>7.9</td>\n",
       "    </tr>\n",
       "    <tr>\n",
       "      <th>Virginia</th>\n",
       "      <td>7.9</td>\n",
       "      <td>8.3</td>\n",
       "      <td>8.9</td>\n",
       "      <td>9.0</td>\n",
       "      <td>8.7</td>\n",
       "    </tr>\n",
       "    <tr>\n",
       "      <th>Washington</th>\n",
       "      <td>10.5</td>\n",
       "      <td>10.1</td>\n",
       "      <td>11.1</td>\n",
       "      <td>12.2</td>\n",
       "      <td>11.1</td>\n",
       "    </tr>\n",
       "    <tr>\n",
       "      <th>West Virginia</th>\n",
       "      <td>10.7</td>\n",
       "      <td>12.0</td>\n",
       "      <td>10.8</td>\n",
       "      <td>12.5</td>\n",
       "      <td>14.3</td>\n",
       "    </tr>\n",
       "    <tr>\n",
       "      <th>Wisconsin</th>\n",
       "      <td>8.2</td>\n",
       "      <td>7.9</td>\n",
       "      <td>8.6</td>\n",
       "      <td>9.1</td>\n",
       "      <td>8.8</td>\n",
       "    </tr>\n",
       "    <tr>\n",
       "      <th>Wyoming</th>\n",
       "      <td>12.5</td>\n",
       "      <td>14.6</td>\n",
       "      <td>16.4</td>\n",
       "      <td>14.3</td>\n",
       "      <td>14.5</td>\n",
       "    </tr>\n",
       "  </tbody>\n",
       "</table>\n",
       "</div>"
      ],
      "text/plain": [
       "YearStart             2010  2011  2012  2013  2014\n",
       "LocationDesc                                      \n",
       "Alabama                9.4   9.9  11.0  10.1  11.8\n",
       "Alaska                 9.8  13.0  12.6  11.3  10.7\n",
       "Arizona               12.7  13.5  13.9  14.7  14.3\n",
       "Arkansas               9.9   9.4   9.5   9.8  10.4\n",
       "California            11.3  11.7  11.7  11.8  12.0\n",
       "Colorado              11.2  12.3  11.7  12.6  12.7\n",
       "Connecticut            7.3   7.3   7.8   7.7   8.5\n",
       "Delaware               8.8   8.6   7.0   7.2   9.3\n",
       "District of Columbia   8.9   6.8   8.5   8.1   7.7\n",
       "Florida               10.6  10.8  10.6  10.7  11.8\n",
       "Georgia                7.5   7.6   8.3   8.5   8.6\n",
       "Hawaii                 6.5   8.0   8.3   6.9   6.9\n",
       "Idaho                  9.3  10.5  11.5  11.7  11.0\n",
       "Illinois               8.2   8.2   8.4   9.0   9.2\n",
       "Indiana                9.0   9.3  10.3  10.1  10.4\n",
       "Iowa                   7.9   7.0   8.1   8.4   8.8\n",
       "Kansas                 7.8   8.4   7.8   7.8   8.9\n",
       "Kentucky               9.4   9.5  10.8  10.8  11.5\n",
       "Louisiana              7.9   7.8   8.7   9.7   9.8\n",
       "Maine                  8.8   8.9   8.1   8.4   9.0\n",
       "Maryland               7.0   7.0   6.7   6.8   6.9\n",
       "Massachusetts          7.7   7.7   7.9   7.5   8.4\n",
       "Michigan              10.0  10.0   9.8  10.0  10.0\n",
       "Minnesota              7.0   7.3   8.1   8.3   7.9\n",
       "Mississippi            9.0  10.6   9.2   9.7  10.3\n",
       "Missouri               7.8   7.5   8.3   8.4   8.8\n",
       "Montana               10.7  11.1  12.7  13.0  12.2\n",
       "Nebraska               8.1   6.4   8.5   8.9   8.0\n",
       "Nevada                11.1  10.8  12.9  12.9  12.2\n",
       "New Hampshire          6.4   9.3   7.4   8.7  10.1\n",
       "New Jersey             7.3   7.6   7.0   7.5   7.5\n",
       "New Mexico            17.0  20.9  19.3  19.7  22.5\n",
       "New York               6.6   6.8   6.7   6.9   6.8\n",
       "North Carolina         8.9   9.5   9.9  10.2  10.3\n",
       "North Dakota          10.1  11.4  11.3  12.1   7.7\n",
       "Ohio                   9.4   9.6   9.6  10.1  10.4\n",
       "Oklahoma              12.5  12.7  14.2  13.8  13.8\n",
       "Oregon                11.3  12.2  11.5  11.7  12.8\n",
       "Pennsylvania           7.8   7.8   7.9   8.0   8.1\n",
       "Rhode Island           9.7  11.5  11.0   9.9   9.1\n",
       "South Carolina        10.8  10.6  10.6  12.1  11.8\n",
       "South Dakota          10.1  11.7  13.4  13.4  16.3\n",
       "Tennessee             10.2  10.6  11.0  11.6  12.0\n",
       "Texas                 11.7  12.3  12.8  12.9  13.5\n",
       "United States          9.4   9.7   9.9  10.2  10.4\n",
       "Utah                   7.3   7.5   8.5   7.7   8.7\n",
       "Vermont                7.2   9.1   5.6   9.5   7.9\n",
       "Virginia               7.9   8.3   8.9   9.0   8.7\n",
       "Washington            10.5  10.1  11.1  12.2  11.1\n",
       "West Virginia         10.7  12.0  10.8  12.5  14.3\n",
       "Wisconsin              8.2   7.9   8.6   9.1   8.8\n",
       "Wyoming               12.5  14.6  16.4  14.3  14.5"
      ]
     },
     "execution_count": 14,
     "metadata": {},
     "output_type": "execute_result"
    }
   ],
   "source": [
    "cldm_df1 = cldm_df.unstack(1)\n",
    "cldm_df1"
   ]
  },
  {
   "cell_type": "code",
   "execution_count": 15,
   "metadata": {},
   "outputs": [],
   "source": [
    "#plot graph of chronic liver disease mortality for all states by year and value"
   ]
  },
  {
   "cell_type": "code",
   "execution_count": 16,
   "metadata": {
    "slideshow": {
     "slide_type": "slide"
    }
   },
   "outputs": [
    {
     "data": {
      "text/plain": [
       "YearStart\n",
       "2010     9.307843\n",
       "2011     9.821569\n",
       "2012    10.043137\n",
       "2013    10.268627\n",
       "2014    10.484314\n",
       "Name: DataValueAlt, dtype: float64"
      ]
     },
     "execution_count": 16,
     "metadata": {},
     "output_type": "execute_result"
    }
   ],
   "source": [
    "# Total mean of all states per year\n",
    "cldm_df2 =cldm_df.drop('United States').groupby(['YearStart']).mean()\n",
    "cldm_df2\n"
   ]
  },
  {
   "cell_type": "code",
   "execution_count": 17,
   "metadata": {
    "slideshow": {
     "slide_type": "slide"
    }
   },
   "outputs": [
    {
     "data": {
      "text/plain": [
       "Text(0.5,1,'Chronic Liver Disease Mortality')"
      ]
     },
     "execution_count": 17,
     "metadata": {},
     "output_type": "execute_result"
    },
    {
     "data": {
      "image/png": "[encoded data removed]",
      "text/plain": [
       "<Figure size 432x288 with 1 Axes>"
      ]
     },
     "metadata": {},
     "output_type": "display_data"
    }
   ],
   "source": [
    "#Line Chart\n",
    "\n",
    "cldm_df2.plot(kind='line', y = 'YearStart', legend = False, fontsize=10,use_index=True)\n",
    "test=[2010,2011,2012,2013,2014]\n",
    "plt.xticks(test)\n",
    "plt.title (\"Chronic Liver Disease Mortality\")\n",
    "#Need to change X-Axis to 2011-2016 (remove 2010)"
   ]
  },
  {
   "cell_type": "raw",
   "metadata": {
    "tags": [
     "Craig_start"
    ]
   },
   "source": [
    "###Craig's Part Starts HERE   #######"
   ]
  },
  {
   "cell_type": "code",
   "execution_count": 18,
   "metadata": {},
   "outputs": [
    {
     "data": {
      "text/html": [
       "<div>\n",
       "<style scoped>\n",
       "    .dataframe tbody tr th:only-of-type {\n",
       "        vertical-align: middle;\n",
       "    }\n",
       "\n",
       "    .dataframe tbody tr th {\n",
       "        vertical-align: top;\n",
       "    }\n",
       "\n",
       "    .dataframe thead th {\n",
       "        text-align: right;\n",
       "    }\n",
       "</style>\n",
       "<table border=\"1\" class=\"dataframe\">\n",
       "  <thead>\n",
       "    <tr style=\"text-align: right;\">\n",
       "      <th></th>\n",
       "      <th>Question</th>\n",
       "      <th>Binge_Heavy</th>\n",
       "      <th>Description</th>\n",
       "      <th>Sex</th>\n",
       "      <th>Age</th>\n",
       "      <th>Question_additional_comments</th>\n",
       "    </tr>\n",
       "  </thead>\n",
       "  <tbody>\n",
       "    <tr>\n",
       "      <th>0</th>\n",
       "      <td>Binge drinking prevalence among adults aged &gt;=...</td>\n",
       "      <td>Binge</td>\n",
       "      <td>Prevalence</td>\n",
       "      <td>Adults</td>\n",
       "      <td>&gt;=18</td>\n",
       "      <td>NaN</td>\n",
       "    </tr>\n",
       "    <tr>\n",
       "      <th>1</th>\n",
       "      <td>Binge drinking intensity among adults aged &gt;= ...</td>\n",
       "      <td>Binge</td>\n",
       "      <td>intensity</td>\n",
       "      <td>Adults</td>\n",
       "      <td>&gt;=18</td>\n",
       "      <td>who Binge drink</td>\n",
       "    </tr>\n",
       "    <tr>\n",
       "      <th>2</th>\n",
       "      <td>Binge drinking prevalence among women aged 18-...</td>\n",
       "      <td>Binge</td>\n",
       "      <td>Prevalence</td>\n",
       "      <td>Women</td>\n",
       "      <td>18-44</td>\n",
       "      <td>NaN</td>\n",
       "    </tr>\n",
       "    <tr>\n",
       "      <th>3</th>\n",
       "      <td>Binge drinking frequency among adults aged &gt;= ...</td>\n",
       "      <td>Binge</td>\n",
       "      <td>frequency</td>\n",
       "      <td>Adults</td>\n",
       "      <td>&gt;=18</td>\n",
       "      <td>who Binge drink</td>\n",
       "    </tr>\n",
       "    <tr>\n",
       "      <th>4</th>\n",
       "      <td>Heavy drinking among adults aged &gt;= 18 years</td>\n",
       "      <td>Heavy</td>\n",
       "      <td>NaN</td>\n",
       "      <td>Adults</td>\n",
       "      <td>&gt;=18</td>\n",
       "      <td>NaN</td>\n",
       "    </tr>\n",
       "    <tr>\n",
       "      <th>5</th>\n",
       "      <td>Heavy drinking among women aged 18-44 years</td>\n",
       "      <td>Heavy</td>\n",
       "      <td>NaN</td>\n",
       "      <td>Women</td>\n",
       "      <td>18-44</td>\n",
       "      <td>NaN</td>\n",
       "    </tr>\n",
       "    <tr>\n",
       "      <th>6</th>\n",
       "      <td>Alcohol use among youth</td>\n",
       "      <td>NaN</td>\n",
       "      <td>NaN</td>\n",
       "      <td>Youth</td>\n",
       "      <td>14 to 18</td>\n",
       "      <td>NaN</td>\n",
       "    </tr>\n",
       "    <tr>\n",
       "      <th>7</th>\n",
       "      <td>Binge drinking prevalence among youth</td>\n",
       "      <td>Binge</td>\n",
       "      <td>Prevalence</td>\n",
       "      <td>Youth</td>\n",
       "      <td>14 to 18</td>\n",
       "      <td>NaN</td>\n",
       "    </tr>\n",
       "    <tr>\n",
       "      <th>8</th>\n",
       "      <td>Per capita alcohol consumption among persons a...</td>\n",
       "      <td>NaN</td>\n",
       "      <td>NaN</td>\n",
       "      <td>NaN</td>\n",
       "      <td>14 to 18</td>\n",
       "      <td>NaN</td>\n",
       "    </tr>\n",
       "    <tr>\n",
       "      <th>9</th>\n",
       "      <td>Alcohol use before pregnancy</td>\n",
       "      <td>NaN</td>\n",
       "      <td>NaN</td>\n",
       "      <td>NaN</td>\n",
       "      <td>NaN</td>\n",
       "      <td>NaN</td>\n",
       "    </tr>\n",
       "    <tr>\n",
       "      <th>10</th>\n",
       "      <td>Chronic liver disease mortality</td>\n",
       "      <td>NaN</td>\n",
       "      <td>NaN</td>\n",
       "      <td>NaN</td>\n",
       "      <td>NaN</td>\n",
       "      <td>NaN</td>\n",
       "    </tr>\n",
       "    <tr>\n",
       "      <th>11</th>\n",
       "      <td>Amount of alcohol excise tax by beverage type ...</td>\n",
       "      <td>NaN</td>\n",
       "      <td>NaN</td>\n",
       "      <td>NaN</td>\n",
       "      <td>NaN</td>\n",
       "      <td>NaN</td>\n",
       "    </tr>\n",
       "    <tr>\n",
       "      <th>12</th>\n",
       "      <td>Amount of alcohol excise tax by beverage type ...</td>\n",
       "      <td>NaN</td>\n",
       "      <td>NaN</td>\n",
       "      <td>NaN</td>\n",
       "      <td>NaN</td>\n",
       "      <td>NaN</td>\n",
       "    </tr>\n",
       "    <tr>\n",
       "      <th>13</th>\n",
       "      <td>Amount of alcohol excise tax by beverage type ...</td>\n",
       "      <td>NaN</td>\n",
       "      <td>NaN</td>\n",
       "      <td>NaN</td>\n",
       "      <td>NaN</td>\n",
       "      <td>NaN</td>\n",
       "    </tr>\n",
       "    <tr>\n",
       "      <th>14</th>\n",
       "      <td>Commercial host (dram shop) liability laws</td>\n",
       "      <td>NaN</td>\n",
       "      <td>NaN</td>\n",
       "      <td>NaN</td>\n",
       "      <td>NaN</td>\n",
       "      <td>NaN</td>\n",
       "    </tr>\n",
       "    <tr>\n",
       "      <th>15</th>\n",
       "      <td>Local authority to regulate alcohol outlet den...</td>\n",
       "      <td>NaN</td>\n",
       "      <td>NaN</td>\n",
       "      <td>NaN</td>\n",
       "      <td>NaN</td>\n",
       "      <td>NaN</td>\n",
       "    </tr>\n",
       "  </tbody>\n",
       "</table>\n",
       "</div>"
      ],
      "text/plain": [
       "                                             Question Binge_Heavy Description  \\\n",
       "0   Binge drinking prevalence among adults aged >=...       Binge  Prevalence   \n",
       "1   Binge drinking intensity among adults aged >= ...       Binge   intensity   \n",
       "2   Binge drinking prevalence among women aged 18-...       Binge  Prevalence   \n",
       "3   Binge drinking frequency among adults aged >= ...       Binge   frequency   \n",
       "4        Heavy drinking among adults aged >= 18 years       Heavy         NaN   \n",
       "5         Heavy drinking among women aged 18-44 years       Heavy         NaN   \n",
       "6                             Alcohol use among youth         NaN         NaN   \n",
       "7               Binge drinking prevalence among youth       Binge  Prevalence   \n",
       "8   Per capita alcohol consumption among persons a...         NaN         NaN   \n",
       "9                        Alcohol use before pregnancy         NaN         NaN   \n",
       "10                    Chronic liver disease mortality         NaN         NaN   \n",
       "11  Amount of alcohol excise tax by beverage type ...         NaN         NaN   \n",
       "12  Amount of alcohol excise tax by beverage type ...         NaN         NaN   \n",
       "13  Amount of alcohol excise tax by beverage type ...         NaN         NaN   \n",
       "14         Commercial host (dram shop) liability laws         NaN         NaN   \n",
       "15  Local authority to regulate alcohol outlet den...         NaN         NaN   \n",
       "\n",
       "       Sex       Age Question_additional_comments  \n",
       "0   Adults      >=18                          NaN  \n",
       "1   Adults      >=18              who Binge drink  \n",
       "2    Women     18-44                          NaN  \n",
       "3   Adults      >=18              who Binge drink  \n",
       "4   Adults      >=18                          NaN  \n",
       "5    Women     18-44                          NaN  \n",
       "6    Youth  14 to 18                          NaN  \n",
       "7    Youth  14 to 18                          NaN  \n",
       "8      NaN  14 to 18                          NaN  \n",
       "9      NaN       NaN                          NaN  \n",
       "10     NaN       NaN                          NaN  \n",
       "11     NaN       NaN                          NaN  \n",
       "12     NaN       NaN                          NaN  \n",
       "13     NaN       NaN                          NaN  \n",
       "14     NaN       NaN                          NaN  \n",
       "15     NaN       NaN                          NaN  "
      ]
     },
     "execution_count": 18,
     "metadata": {},
     "output_type": "execute_result"
    }
   ],
   "source": [
    "question_breakdown_csv=(\"Question_breakdown_w_age_CMT.csv\")\n",
    "question_breakdown_data=pd.read_csv(question_breakdown_csv)\n",
    "question_breakdown_data"
   ]
  },
  {
   "cell_type": "code",
   "execution_count": 19,
   "metadata": {
    "tags": [
     "Data_import",
     "Base_data"
    ]
   },
   "outputs": [],
   "source": [
    "#merged_data_new_csv=(\"merged_data_edited.csv\")\n",
    "#merged_data_new=pd.read_csv(merged_data_new_csv)\n",
    "#merged_data_new.head()"
   ]
  },
  {
   "cell_type": "code",
   "execution_count": 20,
   "metadata": {
    "scrolled": true
   },
   "outputs": [],
   "source": [
    "merged_data=pd.merge(CDIA_df,question_breakdown_data,on=\"Question\")\n",
    "#merged_data.dtypes"
   ]
  },
  {
   "cell_type": "code",
   "execution_count": 21,
   "metadata": {
    "tags": [
     "modify_data",
     "merge_columns"
    ]
   },
   "outputs": [],
   "source": [
    "#Convert % into one column if DataValue = percent\n",
    "dataVal_w_units=merged_data[\"DataValue\"]+ \" \" + merged_data[\"DataValueUnit\"]\n",
    "merged_data['DataVal with Units']=dataVal_w_units\n",
    "#merged_data_new.columns"
   ]
  },
  {
   "cell_type": "code",
   "execution_count": 22,
   "metadata": {},
   "outputs": [
    {
     "data": {
      "text/plain": [
       "array(['Crude Prevalence', 'Age-adjusted Prevalence', 'Mean',\n",
       "       'Age-adjusted Mean', 'Number', 'Age-adjusted Rate', 'Crude Rate',\n",
       "       'US Dollars',\n",
       "       'Commercial host (dram shop) liability status for alcohol service',\n",
       "       'Local control of the regulation of alcohol outlet density',\n",
       "       'Per capita alcohol consumption'], dtype=object)"
      ]
     },
     "execution_count": 22,
     "metadata": {},
     "output_type": "execute_result"
    }
   ],
   "source": [
    "merged_data[\"DataValueType\"].unique()\n"
   ]
  },
  {
   "cell_type": "code",
   "execution_count": 23,
   "metadata": {
    "tags": [
     "sex_is_adults",
     "sex_is_not_adults",
     "MergeData",
     "Start_Chart1_prevalence"
    ]
   },
   "outputs": [
    {
     "data": {
      "text/html": [
       "<div>\n",
       "<style scoped>\n",
       "    .dataframe tbody tr th:only-of-type {\n",
       "        vertical-align: middle;\n",
       "    }\n",
       "\n",
       "    .dataframe tbody tr th {\n",
       "        vertical-align: top;\n",
       "    }\n",
       "\n",
       "    .dataframe thead th {\n",
       "        text-align: right;\n",
       "    }\n",
       "</style>\n",
       "<table border=\"1\" class=\"dataframe\">\n",
       "  <thead>\n",
       "    <tr style=\"text-align: right;\">\n",
       "      <th></th>\n",
       "      <th>YearStart</th>\n",
       "      <th>DataValue</th>\n",
       "      <th>sex_age</th>\n",
       "    </tr>\n",
       "  </thead>\n",
       "  <tbody>\n",
       "    <tr>\n",
       "      <th>0</th>\n",
       "      <td>2016</td>\n",
       "      <td>22.5</td>\n",
       "      <td>Male &gt;=18</td>\n",
       "    </tr>\n",
       "    <tr>\n",
       "      <th>1</th>\n",
       "      <td>2016</td>\n",
       "      <td>13.1</td>\n",
       "      <td>Female &gt;=18</td>\n",
       "    </tr>\n",
       "    <tr>\n",
       "      <th>2</th>\n",
       "      <td>2015</td>\n",
       "      <td>12.6</td>\n",
       "      <td>Female &gt;=18</td>\n",
       "    </tr>\n",
       "    <tr>\n",
       "      <th>3</th>\n",
       "      <td>2015</td>\n",
       "      <td>22.0</td>\n",
       "      <td>Male &gt;=18</td>\n",
       "    </tr>\n",
       "    <tr>\n",
       "      <th>4</th>\n",
       "      <td>2012</td>\n",
       "      <td>12.1</td>\n",
       "      <td>Female &gt;=18</td>\n",
       "    </tr>\n",
       "    <tr>\n",
       "      <th>5</th>\n",
       "      <td>2012</td>\n",
       "      <td>23.4</td>\n",
       "      <td>Male &gt;=18</td>\n",
       "    </tr>\n",
       "    <tr>\n",
       "      <th>6</th>\n",
       "      <td>2011</td>\n",
       "      <td>13.6</td>\n",
       "      <td>Female &gt;=18</td>\n",
       "    </tr>\n",
       "    <tr>\n",
       "      <th>7</th>\n",
       "      <td>2011</td>\n",
       "      <td>24.8</td>\n",
       "      <td>Male &gt;=18</td>\n",
       "    </tr>\n",
       "    <tr>\n",
       "      <th>8</th>\n",
       "      <td>2014</td>\n",
       "      <td>11.8</td>\n",
       "      <td>Female &gt;=18</td>\n",
       "    </tr>\n",
       "    <tr>\n",
       "      <th>9</th>\n",
       "      <td>2014</td>\n",
       "      <td>21.8</td>\n",
       "      <td>Male &gt;=18</td>\n",
       "    </tr>\n",
       "    <tr>\n",
       "      <th>10</th>\n",
       "      <td>2013</td>\n",
       "      <td>12.2</td>\n",
       "      <td>Female &gt;=18</td>\n",
       "    </tr>\n",
       "    <tr>\n",
       "      <th>11</th>\n",
       "      <td>2013</td>\n",
       "      <td>23.1</td>\n",
       "      <td>Male &gt;=18</td>\n",
       "    </tr>\n",
       "  </tbody>\n",
       "</table>\n",
       "</div>"
      ],
      "text/plain": [
       "    YearStart  DataValue      sex_age\n",
       "0        2016       22.5    Male >=18\n",
       "1        2016       13.1  Female >=18\n",
       "2        2015       12.6  Female >=18\n",
       "3        2015       22.0    Male >=18\n",
       "4        2012       12.1  Female >=18\n",
       "5        2012       23.4    Male >=18\n",
       "6        2011       13.6  Female >=18\n",
       "7        2011       24.8    Male >=18\n",
       "8        2014       11.8  Female >=18\n",
       "9        2014       21.8    Male >=18\n",
       "10       2013       12.2  Female >=18\n",
       "11       2013       23.1    Male >=18"
      ]
     },
     "execution_count": 23,
     "metadata": {},
     "output_type": "execute_result"
    }
   ],
   "source": [
    "#Add sex_age category for Gender with Sex column\n",
    "sex_adults=merged_data.loc[(merged_data[\"Sex\"] == \"Adults\")\\\n",
    "                               & (merged_data[\"StratificationCategory1\"] == \"Gender\")\\\n",
    "                               & (merged_data[\"LocationDesc\"]== \"United States\")\\\n",
    "                               & (merged_data[\"DataValueType\"]== \"Age-adjusted Prevalence\")\n",
    "                               & (merged_data[\"Binge_Heavy\"]== \"Binge\")\n",
    "                               ,[\"YearStart\",\"DataValue\",\"Stratification1\",\"Age\",\"Sex\",\"StratificationCategory1\",\\\n",
    "                                 \"LocationDesc\",\"DataValueType\"]]\n",
    "\n",
    "#Sex_Age_Calc\n",
    "sex_age=sex_adults[\"Stratification1\"] + \" \"  + sex_adults[\"Age\"]\n",
    "sex_adults['sex_age']=sex_age\n",
    "sex_adults_agesex=sex_adults[[\"YearStart\",\"DataValue\",\"sex_age\"]]\n",
    "\n",
    "#Add sex_age category for NOT Adultsfor reverse Concatenate \n",
    "\n",
    "sex_not_adults=merged_data.loc[(merged_data[\"Sex\"] != \"Adults\")\\\n",
    "                                   &(merged_data[\"StratificationCategory1\"] == \"Overall\")\\\n",
    "                                   & (merged_data[\"LocationDesc\"]== \"United States\")\\\n",
    "                                   & (merged_data[\"DataValueType\"]== \"Age-adjusted Prevalence\")\\\n",
    "                                   & (merged_data[\"Binge_Heavy\"]== \"Binge\")\n",
    "                                   ,:]\n",
    "\n",
    "sex_not_adults_agesex=sex_not_adults[[\"YearStart\",\"DataValue\",\"Age\",\"Sex\"]]\n",
    "sex_age=sex_not_adults[\"Sex\"] + \" \"  +sex_not_adults[\"Age\"]\n",
    "sex_not_adults_agesex['sex_age']=sex_age\n",
    "sex_not_adults_agesex=sex_not_adults_agesex[[\"YearStart\",\"DataValue\",\"sex_age\"]]\n",
    "\n",
    "#Merge Data\n",
    "chart1_data_base=pd.merge(sex_adults_agesex,sex_not_adults_agesex, how=\"outer\")\n",
    "chart1_data_base[\"DataValue\"]=chart1_data_base[\"DataValue\"].astype(float)\n",
    "chart1_data_base[\"YearStart\"]=chart1_data_base[\"YearStart\"].astype(int)\n",
    "\n",
    "chart1_data_base"
   ]
  },
  {
   "cell_type": "code",
   "execution_count": 24,
   "metadata": {},
   "outputs": [
    {
     "data": {
      "text/html": [
       "<div>\n",
       "<style scoped>\n",
       "    .dataframe tbody tr th:only-of-type {\n",
       "        vertical-align: middle;\n",
       "    }\n",
       "\n",
       "    .dataframe tbody tr th {\n",
       "        vertical-align: top;\n",
       "    }\n",
       "\n",
       "    .dataframe thead th {\n",
       "        text-align: right;\n",
       "    }\n",
       "</style>\n",
       "<table border=\"1\" class=\"dataframe\">\n",
       "  <thead>\n",
       "    <tr style=\"text-align: right;\">\n",
       "      <th>YearStart</th>\n",
       "      <th>2011</th>\n",
       "      <th>2012</th>\n",
       "      <th>2013</th>\n",
       "      <th>2014</th>\n",
       "      <th>2015</th>\n",
       "      <th>2016</th>\n",
       "    </tr>\n",
       "    <tr>\n",
       "      <th>sex_age</th>\n",
       "      <th></th>\n",
       "      <th></th>\n",
       "      <th></th>\n",
       "      <th></th>\n",
       "      <th></th>\n",
       "      <th></th>\n",
       "    </tr>\n",
       "  </thead>\n",
       "  <tbody>\n",
       "    <tr>\n",
       "      <th>Female &gt;=18</th>\n",
       "      <td>13.6</td>\n",
       "      <td>12.1</td>\n",
       "      <td>12.2</td>\n",
       "      <td>11.8</td>\n",
       "      <td>12.6</td>\n",
       "      <td>13.1</td>\n",
       "    </tr>\n",
       "    <tr>\n",
       "      <th>Male &gt;=18</th>\n",
       "      <td>24.8</td>\n",
       "      <td>23.4</td>\n",
       "      <td>23.1</td>\n",
       "      <td>21.8</td>\n",
       "      <td>22.0</td>\n",
       "      <td>22.5</td>\n",
       "    </tr>\n",
       "  </tbody>\n",
       "</table>\n",
       "</div>"
      ],
      "text/plain": [
       "YearStart    2011  2012  2013  2014  2015  2016\n",
       "sex_age                                        \n",
       "Female >=18  13.6  12.1  12.2  11.8  12.6  13.1\n",
       "Male >=18    24.8  23.4  23.1  21.8  22.0  22.5"
      ]
     },
     "execution_count": 24,
     "metadata": {},
     "output_type": "execute_result"
    }
   ],
   "source": [
    "chart1_data_base=chart1_data_base.reset_index().pivot(columns='YearStart',index='sex_age',values='DataValue')\n",
    "\n",
    "chart1_data_base"
   ]
  },
  {
   "cell_type": "code",
   "execution_count": 25,
   "metadata": {},
   "outputs": [
    {
     "data": {
      "text/plain": [
       "Text(0,0.5,'% Age-Adjusted Drinkers')"
      ]
     },
     "execution_count": 25,
     "metadata": {},
     "output_type": "execute_result"
    },
    {
     "data": {
      "image/png": "[encoded data removed]",
      "text/plain": [
       "<Figure size 432x288 with 1 Axes>"
      ]
     },
     "metadata": {},
     "output_type": "display_data"
    }
   ],
   "source": [
    "#CHART 1 line chart\n",
    "chart1_data_base.T.plot(kind='line')\n",
    "plt.title (\" Propensity for Drinking by Sex\")\n",
    "plt.xlabel (\"Year\")\n",
    "plt.ylabel (\"% Age-Adjusted Drinkers\")\n"
   ]
  },
  {
   "cell_type": "code",
   "execution_count": 26,
   "metadata": {
    "tags": [
     "Chart_2_Start"
    ]
   },
   "outputs": [],
   "source": [
    "chart2_data_Base=merged_data\n",
    "#Sex_Age_Calc\n",
    "sex_age=chart2_data_Base[\"Stratification1\"] + \" \"  + chart2_data_Base[\"Age\"]\n",
    "chart2_data_Base['sex_age']=sex_age\n",
    "\n",
    "\n",
    "#Add sex_age category for Gender with Sex column\n",
    "chart2_data_base=chart2_data_Base.loc[(chart2_data_Base[\"Description\"] == \"intensity\")\\\n",
    "                               & (chart2_data_Base[\"LocationDesc\"]== \"United States\")\\\n",
    "                               & (chart2_data_Base[\"DataValueType\"]== \"Age-adjusted Mean\")\n",
    "                               ,[\"YearStart\",\"DataValue\",\"Stratification1\",\"Age\",\"Sex\",\"StratificationCategory1\",\\\n",
    "                                 \"LocationDesc\",\"DataValueType\",\"sex_age\"]]\n",
    "\n",
    "chart2_data_base[\"DataValue\"]=chart2_data_base[\"DataValue\"].astype(float)\n",
    "#intensity_drinking.dtypes\n",
    "\n",
    "chart2_data_base_chart=chart2_data_base[[\"YearStart\",\"DataValue\",\"sex_age\"]]\n",
    "#chart2_data_base_chart"
   ]
  },
  {
   "cell_type": "code",
   "execution_count": 27,
   "metadata": {},
   "outputs": [
    {
     "data": {
      "text/html": [
       "<div>\n",
       "<style scoped>\n",
       "    .dataframe tbody tr th:only-of-type {\n",
       "        vertical-align: middle;\n",
       "    }\n",
       "\n",
       "    .dataframe tbody tr th {\n",
       "        vertical-align: top;\n",
       "    }\n",
       "\n",
       "    .dataframe thead th {\n",
       "        text-align: right;\n",
       "    }\n",
       "</style>\n",
       "<table border=\"1\" class=\"dataframe\">\n",
       "  <thead>\n",
       "    <tr style=\"text-align: right;\">\n",
       "      <th>YearStart</th>\n",
       "      <th>2011</th>\n",
       "      <th>2012</th>\n",
       "      <th>2013</th>\n",
       "      <th>2014</th>\n",
       "      <th>2015</th>\n",
       "      <th>2016</th>\n",
       "    </tr>\n",
       "    <tr>\n",
       "      <th>sex_age</th>\n",
       "      <th></th>\n",
       "      <th></th>\n",
       "      <th></th>\n",
       "      <th></th>\n",
       "      <th></th>\n",
       "      <th></th>\n",
       "    </tr>\n",
       "  </thead>\n",
       "  <tbody>\n",
       "    <tr>\n",
       "      <th>Female &gt;=18</th>\n",
       "      <td>5.4</td>\n",
       "      <td>5.4</td>\n",
       "      <td>5.4</td>\n",
       "      <td>5.4</td>\n",
       "      <td>5.3</td>\n",
       "      <td>5.3</td>\n",
       "    </tr>\n",
       "    <tr>\n",
       "      <th>Male &gt;=18</th>\n",
       "      <td>8.3</td>\n",
       "      <td>8.2</td>\n",
       "      <td>8.2</td>\n",
       "      <td>8.1</td>\n",
       "      <td>8.1</td>\n",
       "      <td>8.2</td>\n",
       "    </tr>\n",
       "    <tr>\n",
       "      <th>Overall &gt;=18</th>\n",
       "      <td>7.3</td>\n",
       "      <td>7.2</td>\n",
       "      <td>7.3</td>\n",
       "      <td>7.2</td>\n",
       "      <td>7.2</td>\n",
       "      <td>7.1</td>\n",
       "    </tr>\n",
       "  </tbody>\n",
       "</table>\n",
       "</div>"
      ],
      "text/plain": [
       "YearStart     2011  2012  2013  2014  2015  2016\n",
       "sex_age                                         \n",
       "Female >=18    5.4   5.4   5.4   5.4   5.3   5.3\n",
       "Male >=18      8.3   8.2   8.2   8.1   8.1   8.2\n",
       "Overall >=18   7.3   7.2   7.3   7.2   7.2   7.1"
      ]
     },
     "execution_count": 27,
     "metadata": {},
     "output_type": "execute_result"
    }
   ],
   "source": [
    "chart2_data_base_chart=chart2_data_base_chart.reset_index().pivot(columns='YearStart',index='sex_age',values='DataValue')\n",
    "chart2_data_base_chart"
   ]
  },
  {
   "cell_type": "code",
   "execution_count": 28,
   "metadata": {},
   "outputs": [
    {
     "data": {
      "text/plain": [
       "Text(0,0.5,'Age-Adjusted Mean')"
      ]
     },
     "execution_count": 28,
     "metadata": {},
     "output_type": "execute_result"
    },
    {
     "data": {
      "image/png": "[encoded data removed]",
      "text/plain": [
       "<Figure size 432x288 with 1 Axes>"
      ]
     },
     "metadata": {},
     "output_type": "display_data"
    }
   ],
   "source": [
    "#CHART 2 line chart\n",
    "chart2_data_base_chart.T.plot(kind='line')\n",
    "plt.title (\"Intensity of Binges by Sex\")\n",
    "plt.xlabel (\"Year\")\n",
    "plt.ylabel (\"Age-Adjusted Mean\")"
   ]
  },
  {
   "cell_type": "code",
   "execution_count": 29,
   "metadata": {
    "scrolled": true,
    "tags": [
     "Frequency_Sex_Chart"
    ]
   },
   "outputs": [],
   "source": [
    "chart3_data_base=merged_data\n",
    "\n",
    "#Sex_Age_Calc\n",
    "sex_age=chart3_data_base[\"Stratification1\"] + \" \"  + chart3_data_base[\"Age\"]\n",
    "chart3_data_base['sex_age']=sex_age\n",
    "\n",
    "\n",
    "#Add sex_age category for Gender with Sex column\n",
    "chart3_data_base=chart3_data_base.loc[(chart3_data_base[\"Description\"] == \"frequency\")\\\n",
    "                               & (chart3_data_base[\"LocationDesc\"]== \"United States\")\\\n",
    "                               & (chart3_data_base[\"DataValueType\"]== \"Age-adjusted Mean\")\n",
    "                               ,[\"YearStart\",\"DataValue\",\"Stratification1\",\"Age\",\"Sex\",\"StratificationCategory1\",\\\n",
    "                                 \"LocationDesc\",\"DataValueType\",\"sex_age\"]]\n",
    "\n",
    "\n",
    "chart3_data_base[\"DataValue\"]=chart3_data_base[\"DataValue\"].astype(float)\n",
    "\n",
    "chart3_data_base_chart=chart3_data_base[[\"YearStart\",\"DataValue\",\"sex_age\"]]\n"
   ]
  },
  {
   "cell_type": "code",
   "execution_count": 30,
   "metadata": {
    "scrolled": true
   },
   "outputs": [
    {
     "data": {
      "text/html": [
       "<div>\n",
       "<style scoped>\n",
       "    .dataframe tbody tr th:only-of-type {\n",
       "        vertical-align: middle;\n",
       "    }\n",
       "\n",
       "    .dataframe tbody tr th {\n",
       "        vertical-align: top;\n",
       "    }\n",
       "\n",
       "    .dataframe thead th {\n",
       "        text-align: right;\n",
       "    }\n",
       "</style>\n",
       "<table border=\"1\" class=\"dataframe\">\n",
       "  <thead>\n",
       "    <tr style=\"text-align: right;\">\n",
       "      <th>YearStart</th>\n",
       "      <th>2011</th>\n",
       "      <th>2012</th>\n",
       "      <th>2013</th>\n",
       "      <th>2014</th>\n",
       "      <th>2015</th>\n",
       "      <th>2016</th>\n",
       "    </tr>\n",
       "    <tr>\n",
       "      <th>sex_age</th>\n",
       "      <th></th>\n",
       "      <th></th>\n",
       "      <th></th>\n",
       "      <th></th>\n",
       "      <th></th>\n",
       "      <th></th>\n",
       "    </tr>\n",
       "  </thead>\n",
       "  <tbody>\n",
       "    <tr>\n",
       "      <th>Female &gt;=18</th>\n",
       "      <td>3.3</td>\n",
       "      <td>3.4</td>\n",
       "      <td>3.4</td>\n",
       "      <td>3.4</td>\n",
       "      <td>3.4</td>\n",
       "      <td>3.6</td>\n",
       "    </tr>\n",
       "    <tr>\n",
       "      <th>Male &gt;=18</th>\n",
       "      <td>4.8</td>\n",
       "      <td>4.9</td>\n",
       "      <td>5.0</td>\n",
       "      <td>4.9</td>\n",
       "      <td>5.0</td>\n",
       "      <td>5.0</td>\n",
       "    </tr>\n",
       "    <tr>\n",
       "      <th>Overall &gt;=18</th>\n",
       "      <td>4.4</td>\n",
       "      <td>4.4</td>\n",
       "      <td>4.5</td>\n",
       "      <td>4.5</td>\n",
       "      <td>4.5</td>\n",
       "      <td>4.7</td>\n",
       "    </tr>\n",
       "  </tbody>\n",
       "</table>\n",
       "</div>"
      ],
      "text/plain": [
       "YearStart     2011  2012  2013  2014  2015  2016\n",
       "sex_age                                         \n",
       "Female >=18    3.3   3.4   3.4   3.4   3.4   3.6\n",
       "Male >=18      4.8   4.9   5.0   4.9   5.0   5.0\n",
       "Overall >=18   4.4   4.4   4.5   4.5   4.5   4.7"
      ]
     },
     "execution_count": 30,
     "metadata": {},
     "output_type": "execute_result"
    }
   ],
   "source": [
    "chart3_data_base_chart=chart3_data_base_chart.reset_index().pivot(columns='YearStart',index='sex_age',values='DataValue')\n",
    "chart3_data_base_chart"
   ]
  },
  {
   "cell_type": "code",
   "execution_count": 31,
   "metadata": {
    "scrolled": true
   },
   "outputs": [
    {
     "data": {
      "text/plain": [
       "Text(0,0.5,'Age-Adjusted Mean')"
      ]
     },
     "execution_count": 31,
     "metadata": {},
     "output_type": "execute_result"
    },
    {
     "data": {
      "image/png": "[encoded data removed]",
      "text/plain": [
       "<Figure size 432x288 with 1 Axes>"
      ]
     },
     "metadata": {},
     "output_type": "display_data"
    }
   ],
   "source": [
    "#CHART 3 line chart\n",
    "chart3_data_base_chart.T.plot(kind='line')\n",
    "plt.title (\"Frequency of Binges by Sex\")\n",
    "plt.xlabel (\"Year\")\n",
    "plt.ylabel (\"Age-Adjusted Mean\")"
   ]
  },
  {
   "cell_type": "code",
   "execution_count": 32,
   "metadata": {},
   "outputs": [
    {
     "data": {
      "text/html": [
       "<div>\n",
       "<style scoped>\n",
       "    .dataframe tbody tr th:only-of-type {\n",
       "        vertical-align: middle;\n",
       "    }\n",
       "\n",
       "    .dataframe tbody tr th {\n",
       "        vertical-align: top;\n",
       "    }\n",
       "\n",
       "    .dataframe thead th {\n",
       "        text-align: right;\n",
       "    }\n",
       "</style>\n",
       "<table border=\"1\" class=\"dataframe\">\n",
       "  <thead>\n",
       "    <tr style=\"text-align: right;\">\n",
       "      <th>YearStart</th>\n",
       "      <th>2011</th>\n",
       "      <th>2012</th>\n",
       "      <th>2013</th>\n",
       "      <th>2014</th>\n",
       "      <th>2015</th>\n",
       "      <th>2016</th>\n",
       "    </tr>\n",
       "    <tr>\n",
       "      <th>Stratification1</th>\n",
       "      <th></th>\n",
       "      <th></th>\n",
       "      <th></th>\n",
       "      <th></th>\n",
       "      <th></th>\n",
       "      <th></th>\n",
       "    </tr>\n",
       "  </thead>\n",
       "  <tbody>\n",
       "    <tr>\n",
       "      <th>Black, non-Hispanic</th>\n",
       "      <td>10.963934</td>\n",
       "      <td>9.930645</td>\n",
       "      <td>9.663158</td>\n",
       "      <td>9.567857</td>\n",
       "      <td>9.779661</td>\n",
       "      <td>10.758065</td>\n",
       "    </tr>\n",
       "    <tr>\n",
       "      <th>Hispanic</th>\n",
       "      <td>15.076812</td>\n",
       "      <td>13.445588</td>\n",
       "      <td>13.612121</td>\n",
       "      <td>13.138806</td>\n",
       "      <td>12.675410</td>\n",
       "      <td>12.330769</td>\n",
       "    </tr>\n",
       "    <tr>\n",
       "      <th>Multiracial, non-Hispanic</th>\n",
       "      <td>17.275610</td>\n",
       "      <td>18.463415</td>\n",
       "      <td>15.272727</td>\n",
       "      <td>18.429730</td>\n",
       "      <td>17.662500</td>\n",
       "      <td>18.075000</td>\n",
       "    </tr>\n",
       "    <tr>\n",
       "      <th>Other, non-Hispanic</th>\n",
       "      <td>13.022642</td>\n",
       "      <td>11.766102</td>\n",
       "      <td>11.415094</td>\n",
       "      <td>11.153333</td>\n",
       "      <td>11.768000</td>\n",
       "      <td>12.045614</td>\n",
       "    </tr>\n",
       "    <tr>\n",
       "      <th>White, non-Hispanic</th>\n",
       "      <td>14.095192</td>\n",
       "      <td>13.208738</td>\n",
       "      <td>13.090385</td>\n",
       "      <td>12.875962</td>\n",
       "      <td>12.849515</td>\n",
       "      <td>13.971429</td>\n",
       "    </tr>\n",
       "  </tbody>\n",
       "</table>\n",
       "</div>"
      ],
      "text/plain": [
       "YearStart                       2011       2012       2013       2014  \\\n",
       "Stratification1                                                         \n",
       "Black, non-Hispanic        10.963934   9.930645   9.663158   9.567857   \n",
       "Hispanic                   15.076812  13.445588  13.612121  13.138806   \n",
       "Multiracial, non-Hispanic  17.275610  18.463415  15.272727  18.429730   \n",
       "Other, non-Hispanic        13.022642  11.766102  11.415094  11.153333   \n",
       "White, non-Hispanic        14.095192  13.208738  13.090385  12.875962   \n",
       "\n",
       "YearStart                       2015       2016  \n",
       "Stratification1                                  \n",
       "Black, non-Hispanic         9.779661  10.758065  \n",
       "Hispanic                   12.675410  12.330769  \n",
       "Multiracial, non-Hispanic  17.662500  18.075000  \n",
       "Other, non-Hispanic        11.768000  12.045614  \n",
       "White, non-Hispanic        12.849515  13.971429  "
      ]
     },
     "execution_count": 32,
     "metadata": {},
     "output_type": "execute_result"
    }
   ],
   "source": [
    "##### Ethnicity Prevalence Mean across United States by 2011-2016\n",
    "###  LocationDesc= United States doesn't exist for these parameters so a mean must be used to derive it\n",
    "\n",
    "Ethnicity_US_2011_2016_df= merged_data.loc[(merged_data['DataValueType'] =='Age-adjusted Prevalence')\\\n",
    "                                   & (merged_data['DataSource'] =='BRFSS')\\\n",
    "                                   & (merged_data['StratificationCategory1'] =='Race/Ethnicity')]\\\n",
    "                                   .groupby(['Stratification1','YearStart'])['DataValueAlt'].mean()\n",
    "\n",
    "Ethnicity_US_2011_2016_df=Ethnicity_US_2011_2016_df.reset_index().pivot(columns='YearStart',index='Stratification1',values='DataValueAlt')\n",
    "Ethnicity_US_2011_2016_df"
   ]
  },
  {
   "cell_type": "code",
   "execution_count": 33,
   "metadata": {},
   "outputs": [
    {
     "data": {
      "text/plain": [
       "<matplotlib.axes._subplots.AxesSubplot at 0x1c880a4b470>"
      ]
     },
     "execution_count": 33,
     "metadata": {},
     "output_type": "execute_result"
    },
    {
     "data": {
      "image/png": "[encoded data removed]",
      "text/plain": [
       "<Figure size 432x288 with 1 Axes>"
      ]
     },
     "metadata": {},
     "output_type": "display_data"
    }
   ],
   "source": [
    "Ethnicity_US_2011_2016_df.T.plot(kind='line')"
   ]
  },
  {
   "cell_type": "code",
   "execution_count": 34,
   "metadata": {},
   "outputs": [
    {
     "ename": "FileNotFoundError",
     "evalue": "File b'data\\\\median income by state 2017 dollars.csv' does not exist",
     "output_type": "error",
     "traceback": [
      "\u001b[1;31m---------------------------------------------------------------------------\u001b[0m",
      "\u001b[1;31mFileNotFoundError\u001b[0m                         Traceback (most recent call last)",
      "\u001b[1;32m<ipython-input-34-b882817e2c3e>\u001b[0m in \u001b[0;36m<module>\u001b[1;34m()\u001b[0m\n\u001b[0;32m      1\u001b[0m \u001b[1;31m#import income by state data\u001b[0m\u001b[1;33m\u001b[0m\u001b[1;33m\u001b[0m\u001b[0m\n\u001b[0;32m      2\u001b[0m \u001b[0mfilename\u001b[0m \u001b[1;33m=\u001b[0m \u001b[1;34m\"data\\median income by state 2017 dollars.csv\"\u001b[0m\u001b[1;33m\u001b[0m\u001b[0m\n\u001b[1;32m----> 3\u001b[1;33m \u001b[0mincome_data\u001b[0m \u001b[1;33m=\u001b[0m  \u001b[0mpd\u001b[0m\u001b[1;33m.\u001b[0m\u001b[0mread_csv\u001b[0m\u001b[1;33m(\u001b[0m\u001b[0mfilename\u001b[0m\u001b[1;33m,\u001b[0m \u001b[0mheader\u001b[0m\u001b[1;33m=\u001b[0m\u001b[1;36m0\u001b[0m\u001b[1;33m,\u001b[0m \u001b[0mthousands\u001b[0m\u001b[1;33m=\u001b[0m\u001b[1;34mr','\u001b[0m\u001b[1;33m,\u001b[0m \u001b[0mdtype\u001b[0m\u001b[1;33m=\u001b[0m\u001b[1;33m{\u001b[0m\u001b[1;34m'2016 Median\\nincome'\u001b[0m\u001b[1;33m:\u001b[0m \u001b[0mnumpy\u001b[0m\u001b[1;33m.\u001b[0m\u001b[0mfloat64\u001b[0m\u001b[1;33m}\u001b[0m\u001b[1;33m)\u001b[0m\u001b[1;33m\u001b[0m\u001b[0m\n\u001b[0m\u001b[0;32m      4\u001b[0m \u001b[0mincome_data\u001b[0m \u001b[1;33m=\u001b[0m \u001b[0mincome_data\u001b[0m\u001b[1;33m[\u001b[0m\u001b[0mincome_data\u001b[0m\u001b[1;33m[\u001b[0m\u001b[1;34m\"State\"\u001b[0m\u001b[1;33m]\u001b[0m\u001b[1;33m!=\u001b[0m\u001b[1;34m\"United States\"\u001b[0m\u001b[1;33m]\u001b[0m\u001b[1;33m\u001b[0m\u001b[0m\n\u001b[0;32m      5\u001b[0m \u001b[0mincome_2017\u001b[0m \u001b[1;33m=\u001b[0m \u001b[0mincome_data\u001b[0m\u001b[1;33m[\u001b[0m\u001b[1;33m[\u001b[0m\u001b[1;34m\"State\"\u001b[0m\u001b[1;33m,\u001b[0m \u001b[1;34m\"2016 Median\\nincome\"\u001b[0m\u001b[1;33m]\u001b[0m\u001b[1;33m]\u001b[0m\u001b[1;33m\u001b[0m\u001b[0m\n",
      "\u001b[1;32m~\\Anaconda3\\lib\\site-packages\\pandas\\io\\parsers.py\u001b[0m in \u001b[0;36mparser_f\u001b[1;34m(filepath_or_buffer, sep, delimiter, header, names, index_col, usecols, squeeze, prefix, mangle_dupe_cols, dtype, engine, converters, true_values, false_values, skipinitialspace, skiprows, nrows, na_values, keep_default_na, na_filter, verbose, skip_blank_lines, parse_dates, infer_datetime_format, keep_date_col, date_parser, dayfirst, iterator, chunksize, compression, thousands, decimal, lineterminator, quotechar, quoting, escapechar, comment, encoding, dialect, tupleize_cols, error_bad_lines, warn_bad_lines, skipfooter, doublequote, delim_whitespace, low_memory, memory_map, float_precision)\u001b[0m\n\u001b[0;32m    676\u001b[0m                     skip_blank_lines=skip_blank_lines)\n\u001b[0;32m    677\u001b[0m \u001b[1;33m\u001b[0m\u001b[0m\n\u001b[1;32m--> 678\u001b[1;33m         \u001b[1;32mreturn\u001b[0m \u001b[0m_read\u001b[0m\u001b[1;33m(\u001b[0m\u001b[0mfilepath_or_buffer\u001b[0m\u001b[1;33m,\u001b[0m \u001b[0mkwds\u001b[0m\u001b[1;33m)\u001b[0m\u001b[1;33m\u001b[0m\u001b[0m\n\u001b[0m\u001b[0;32m    679\u001b[0m \u001b[1;33m\u001b[0m\u001b[0m\n\u001b[0;32m    680\u001b[0m     \u001b[0mparser_f\u001b[0m\u001b[1;33m.\u001b[0m\u001b[0m__name__\u001b[0m \u001b[1;33m=\u001b[0m \u001b[0mname\u001b[0m\u001b[1;33m\u001b[0m\u001b[0m\n",
      "\u001b[1;32m~\\Anaconda3\\lib\\site-packages\\pandas\\io\\parsers.py\u001b[0m in \u001b[0;36m_read\u001b[1;34m(filepath_or_buffer, kwds)\u001b[0m\n\u001b[0;32m    438\u001b[0m \u001b[1;33m\u001b[0m\u001b[0m\n\u001b[0;32m    439\u001b[0m     \u001b[1;31m# Create the parser.\u001b[0m\u001b[1;33m\u001b[0m\u001b[1;33m\u001b[0m\u001b[0m\n\u001b[1;32m--> 440\u001b[1;33m     \u001b[0mparser\u001b[0m \u001b[1;33m=\u001b[0m \u001b[0mTextFileReader\u001b[0m\u001b[1;33m(\u001b[0m\u001b[0mfilepath_or_buffer\u001b[0m\u001b[1;33m,\u001b[0m \u001b[1;33m**\u001b[0m\u001b[0mkwds\u001b[0m\u001b[1;33m)\u001b[0m\u001b[1;33m\u001b[0m\u001b[0m\n\u001b[0m\u001b[0;32m    441\u001b[0m \u001b[1;33m\u001b[0m\u001b[0m\n\u001b[0;32m    442\u001b[0m     \u001b[1;32mif\u001b[0m \u001b[0mchunksize\u001b[0m \u001b[1;32mor\u001b[0m \u001b[0miterator\u001b[0m\u001b[1;33m:\u001b[0m\u001b[1;33m\u001b[0m\u001b[0m\n",
      "\u001b[1;32m~\\Anaconda3\\lib\\site-packages\\pandas\\io\\parsers.py\u001b[0m in \u001b[0;36m__init__\u001b[1;34m(self, f, engine, **kwds)\u001b[0m\n\u001b[0;32m    785\u001b[0m             \u001b[0mself\u001b[0m\u001b[1;33m.\u001b[0m\u001b[0moptions\u001b[0m\u001b[1;33m[\u001b[0m\u001b[1;34m'has_index_names'\u001b[0m\u001b[1;33m]\u001b[0m \u001b[1;33m=\u001b[0m \u001b[0mkwds\u001b[0m\u001b[1;33m[\u001b[0m\u001b[1;34m'has_index_names'\u001b[0m\u001b[1;33m]\u001b[0m\u001b[1;33m\u001b[0m\u001b[0m\n\u001b[0;32m    786\u001b[0m \u001b[1;33m\u001b[0m\u001b[0m\n\u001b[1;32m--> 787\u001b[1;33m         \u001b[0mself\u001b[0m\u001b[1;33m.\u001b[0m\u001b[0m_make_engine\u001b[0m\u001b[1;33m(\u001b[0m\u001b[0mself\u001b[0m\u001b[1;33m.\u001b[0m\u001b[0mengine\u001b[0m\u001b[1;33m)\u001b[0m\u001b[1;33m\u001b[0m\u001b[0m\n\u001b[0m\u001b[0;32m    788\u001b[0m \u001b[1;33m\u001b[0m\u001b[0m\n\u001b[0;32m    789\u001b[0m     \u001b[1;32mdef\u001b[0m \u001b[0mclose\u001b[0m\u001b[1;33m(\u001b[0m\u001b[0mself\u001b[0m\u001b[1;33m)\u001b[0m\u001b[1;33m:\u001b[0m\u001b[1;33m\u001b[0m\u001b[0m\n",
      "\u001b[1;32m~\\Anaconda3\\lib\\site-packages\\pandas\\io\\parsers.py\u001b[0m in \u001b[0;36m_make_engine\u001b[1;34m(self, engine)\u001b[0m\n\u001b[0;32m   1012\u001b[0m     \u001b[1;32mdef\u001b[0m \u001b[0m_make_engine\u001b[0m\u001b[1;33m(\u001b[0m\u001b[0mself\u001b[0m\u001b[1;33m,\u001b[0m \u001b[0mengine\u001b[0m\u001b[1;33m=\u001b[0m\u001b[1;34m'c'\u001b[0m\u001b[1;33m)\u001b[0m\u001b[1;33m:\u001b[0m\u001b[1;33m\u001b[0m\u001b[0m\n\u001b[0;32m   1013\u001b[0m         \u001b[1;32mif\u001b[0m \u001b[0mengine\u001b[0m \u001b[1;33m==\u001b[0m \u001b[1;34m'c'\u001b[0m\u001b[1;33m:\u001b[0m\u001b[1;33m\u001b[0m\u001b[0m\n\u001b[1;32m-> 1014\u001b[1;33m             \u001b[0mself\u001b[0m\u001b[1;33m.\u001b[0m\u001b[0m_engine\u001b[0m \u001b[1;33m=\u001b[0m \u001b[0mCParserWrapper\u001b[0m\u001b[1;33m(\u001b[0m\u001b[0mself\u001b[0m\u001b[1;33m.\u001b[0m\u001b[0mf\u001b[0m\u001b[1;33m,\u001b[0m \u001b[1;33m**\u001b[0m\u001b[0mself\u001b[0m\u001b[1;33m.\u001b[0m\u001b[0moptions\u001b[0m\u001b[1;33m)\u001b[0m\u001b[1;33m\u001b[0m\u001b[0m\n\u001b[0m\u001b[0;32m   1015\u001b[0m         \u001b[1;32melse\u001b[0m\u001b[1;33m:\u001b[0m\u001b[1;33m\u001b[0m\u001b[0m\n\u001b[0;32m   1016\u001b[0m             \u001b[1;32mif\u001b[0m \u001b[0mengine\u001b[0m \u001b[1;33m==\u001b[0m \u001b[1;34m'python'\u001b[0m\u001b[1;33m:\u001b[0m\u001b[1;33m\u001b[0m\u001b[0m\n",
      "\u001b[1;32m~\\Anaconda3\\lib\\site-packages\\pandas\\io\\parsers.py\u001b[0m in \u001b[0;36m__init__\u001b[1;34m(self, src, **kwds)\u001b[0m\n\u001b[0;32m   1706\u001b[0m         \u001b[0mkwds\u001b[0m\u001b[1;33m[\u001b[0m\u001b[1;34m'usecols'\u001b[0m\u001b[1;33m]\u001b[0m \u001b[1;33m=\u001b[0m \u001b[0mself\u001b[0m\u001b[1;33m.\u001b[0m\u001b[0musecols\u001b[0m\u001b[1;33m\u001b[0m\u001b[0m\n\u001b[0;32m   1707\u001b[0m \u001b[1;33m\u001b[0m\u001b[0m\n\u001b[1;32m-> 1708\u001b[1;33m         \u001b[0mself\u001b[0m\u001b[1;33m.\u001b[0m\u001b[0m_reader\u001b[0m \u001b[1;33m=\u001b[0m \u001b[0mparsers\u001b[0m\u001b[1;33m.\u001b[0m\u001b[0mTextReader\u001b[0m\u001b[1;33m(\u001b[0m\u001b[0msrc\u001b[0m\u001b[1;33m,\u001b[0m \u001b[1;33m**\u001b[0m\u001b[0mkwds\u001b[0m\u001b[1;33m)\u001b[0m\u001b[1;33m\u001b[0m\u001b[0m\n\u001b[0m\u001b[0;32m   1709\u001b[0m \u001b[1;33m\u001b[0m\u001b[0m\n\u001b[0;32m   1710\u001b[0m         \u001b[0mpassed_names\u001b[0m \u001b[1;33m=\u001b[0m \u001b[0mself\u001b[0m\u001b[1;33m.\u001b[0m\u001b[0mnames\u001b[0m \u001b[1;32mis\u001b[0m \u001b[1;32mNone\u001b[0m\u001b[1;33m\u001b[0m\u001b[0m\n",
      "\u001b[1;32mpandas\\_libs\\parsers.pyx\u001b[0m in \u001b[0;36mpandas._libs.parsers.TextReader.__cinit__\u001b[1;34m()\u001b[0m\n",
      "\u001b[1;32mpandas\\_libs\\parsers.pyx\u001b[0m in \u001b[0;36mpandas._libs.parsers.TextReader._setup_parser_source\u001b[1;34m()\u001b[0m\n",
      "\u001b[1;31mFileNotFoundError\u001b[0m: File b'data\\\\median income by state 2017 dollars.csv' does not exist"
     ]
    }
   ],
   "source": [
    "#import income by state data\n",
    "filename = \"data\\median income by state 2017 dollars.csv\"\n",
    "income_data =  pd.read_csv(filename, header=0, thousands=r',', dtype={'2016 Median\\nincome': numpy.float64})\n",
    "income_data = income_data[income_data[\"State\"]!=\"United States\"]\n",
    "income_2017 = income_data[[\"State\", \"2016 Median\\nincome\"]]\n",
    "income_2017.columns = [\"State\", \"Median Income 2016\"]\n",
    "income_2017.set_index(\"State\")\n",
    "income_2017.head()"
   ]
  },
  {
   "cell_type": "code",
   "execution_count": null,
   "metadata": {},
   "outputs": [],
   "source": [
    "print(binge_df1.columns)\n",
    "binge_data = binge_df1.reset_index()\n",
    "print(binge_data.columns)\n",
    "binge_2016 = binge_data[[\"LocationDesc\", 2016]]\n",
    "binge_2016.columns = [\"State\", \"2016 Rate\"]\n",
    "binge_2016\n",
    "binge_by_income = pd.merge(income_2017, binge_2016)\n",
    "binge_by_income.head()"
   ]
  },
  {
   "cell_type": "code",
   "execution_count": null,
   "metadata": {},
   "outputs": [],
   "source": [
    "import numpy as np\n",
    "#fig, ax = plt.subplots(nrows=2)\n",
    "\n",
    "trend_x = np.array(binge_by_income[\"Median Income 2016\"].tolist())\n",
    "trend_y = binge_by_income[\"2016 Rate\"].tolist()\n",
    "\n",
    "# Set line\n",
    "(slope, intercept, _, _, _) = linregress(trend_x, trend_y)\n",
    "fit = slope * trend_x + intercept"
   ]
  },
  {
   "cell_type": "code",
   "execution_count": null,
   "metadata": {},
   "outputs": [],
   "source": [
    "ax = binge_by_income.plot.scatter(x=\"Median Income 2016\", y=\"2016 Rate\")\n",
    "plt.plot(trend_x, fit,\"r--\")\n",
    "plt.show()"
   ]
  },
  {
   "cell_type": "code",
   "execution_count": null,
   "metadata": {},
   "outputs": [],
   "source": [
    "filename = \"data/people_per_bar_by_state.csv\"\n",
    "bar_data = pd.read_csv(filename, header=0, thousands=r',', dtype={'People Per Bar': numpy.float64})\n",
    "bar_data.set_index(\"State\")\n",
    "bar_data.head()"
   ]
  },
  {
   "cell_type": "code",
   "execution_count": null,
   "metadata": {},
   "outputs": [],
   "source": [
    "bar_and_rate_by_state = pd.merge(bar_data, binge_2016)\n",
    "bar_and_rate_by_state.head()"
   ]
  },
  {
   "cell_type": "code",
   "execution_count": null,
   "metadata": {},
   "outputs": [],
   "source": [
    "trend_x = np.array(bar_and_rate_by_state[\"People Per Bar\"].tolist())\n",
    "trend_y = bar_and_rate_by_state[\"2016 Rate\"].tolist()\n",
    "\n",
    "# Set line\n",
    "(slope, intercept, _, _, _) = linregress(trend_x, trend_y)\n",
    "fit = slope * trend_x + intercept"
   ]
  },
  {
   "cell_type": "code",
   "execution_count": null,
   "metadata": {},
   "outputs": [],
   "source": [
    "ax = bar_and_rate_by_state.plot.scatter(x=\"People Per Bar\", y=\"2016 Rate\")\n",
    "plt.plot(trend_x, fit,\"r--\")\n",
    "plt.show()"
   ]
  },
  {
   "cell_type": "code",
   "execution_count": null,
   "metadata": {},
   "outputs": [],
   "source": [
    "regulation_data = pd.DataFrame(CDIA_df.loc[(CDIA_df['QuestionID'] =='ALC10_0') \n",
    "& (CDIA_df['DataSource'] =='Legal Research')\n",
    "& (CDIA_df['Stratification1'] =='Overall')\n",
    "& (CDIA_df['LocationDesc'] !='United States')].groupby(['LocationDesc'])['DataValue'].first()).reset_index()\n",
    "\n",
    "regulation_data.columns = [\"State\", \"Regulation\"]\n",
    "regulation_data.set_index(\"State\")\n",
    "regulation_data[\"Category\"] = regulation_data[\"Regulation\"].str[0:10]\n",
    "regulation_data.head()"
   ]
  },
  {
   "cell_type": "code",
   "execution_count": null,
   "metadata": {},
   "outputs": [],
   "source": [
    "prevalence_and_category = pd.merge(regulation_data, binge_2016)\n",
    "prevalence_and_category.dropna(inplace = True)\n",
    "prevalence_and_category\n",
    "reg_summary = pd.DataFrame(prevalence_and_category.groupby(\"Category\")[\"2016 Rate\"].mean()).reset_index()\n",
    "reg_summary.set_index(\"Category\")\n",
    "cat_summary = pd.DataFrame(prevalence_and_category.groupby(\"Regulation\")[\"2016 Rate\"].count()).reset_index()\n",
    "cat_summary.set_index(\"Regulation\")\n",
    "cat_summary"
   ]
  },
  {
   "cell_type": "code",
   "execution_count": null,
   "metadata": {},
   "outputs": [],
   "source": [
    "reg_summary.plot.bar(x=\"Category\", y=\"2016 Rate\")"
   ]
  },
  {
   "cell_type": "code",
   "execution_count": null,
   "metadata": {},
   "outputs": [],
   "source": []
  }
 ],
 "metadata": {
  "celltoolbar": "Tags",
  "kernelspec": {
   "display_name": "Python 3",
   "language": "python",
   "name": "python3"
  },
  "language_info": {
   "codemirror_mode": {
    "name": "ipython",
    "version": 3
   },
   "file_extension": ".py",
   "mimetype": "text/x-python",
   "name": "python",
   "nbconvert_exporter": "python",
   "pygments_lexer": "ipython3",
   "version": "3.6.5"
  }
 },
 "nbformat": 4,
 "nbformat_minor": 2
}
